{
 "cells": [
  {
   "cell_type": "code",
   "execution_count": 1,
   "metadata": {},
   "outputs": [],
   "source": [
    "import pandas as pd\n",
    "import numpy as np\n"
   ]
  },
  {
   "cell_type": "code",
   "execution_count": 3,
   "metadata": {},
   "outputs": [],
   "source": [
    "myDF = pd.read_csv(\"./annotatedTest.csv\")\n",
    "# print(myDF.head())"
   ]
  },
  {
   "cell_type": "code",
   "execution_count": 4,
   "metadata": {},
   "outputs": [],
   "source": [
    "myLabels = ['No structures visible', 'Head Visible',\n",
    "       'Abdomen Visible', 'Chest Visible', 'Femur Visible',\n",
    "       'Other arm or leg bones visible', 'Umbilical cord visible',\n",
    "       'Amniotic fluid visible', 'Placenta visible', 'Fetus or CRL visible',\n",
    "       'Maternal bladder visible', 'Head Measurable', 'Abdomen Measurable',\n",
    "       'Femur Measurable']"
   ]
  },
  {
   "cell_type": "code",
   "execution_count": null,
   "metadata": {},
   "outputs": [],
   "source": [
    "myDF[\"Head Visible\"] = myDF['Head Visible'] | myDF['Head Measurable']\n",
    "myDF[\"Abdomen Visible\"] = myDF['Abdomen Visible'] | myDF['Abdomen Measurable']\n",
    "myDF[\"Femur Visible\"] = myDF['Femur Visible'] | myDF['Femur Measurable']\n"
   ]
  }
 ],
 "metadata": {
  "kernelspec": {
   "display_name": "torch_us",
   "language": "python",
   "name": "python3"
  },
  "language_info": {
   "codemirror_mode": {
    "name": "ipython",
    "version": 3
   },
   "file_extension": ".py",
   "mimetype": "text/x-python",
   "name": "python",
   "nbconvert_exporter": "python",
   "pygments_lexer": "ipython3",
   "version": "3.10.8"
  },
  "orig_nbformat": 4
 },
 "nbformat": 4,
 "nbformat_minor": 2
}
