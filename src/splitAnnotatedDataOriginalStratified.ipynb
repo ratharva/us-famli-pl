{
 "cells": [
  {
   "cell_type": "code",
   "execution_count": 13,
   "metadata": {},
   "outputs": [],
   "source": [
    "import numpy as np\n",
    "import pandas as pd\n",
    "from sklearn.model_selection import train_test_split"
   ]
  },
  {
   "cell_type": "code",
   "execution_count": 14,
   "metadata": {},
   "outputs": [],
   "source": [
    "# filePath = \"/mnt/raid/home/ayrisbud/us-famli-pl/src/new_annotated_data.csv\"\n",
    "# myDf = pd.read_csv(\"/mnt/raid/home/ayrisbud/us-famli-pl/src/new_annotated_data.csv\")\n",
    "dfTrain = pd.read_csv(\"/mnt/raid/home/ayrisbud/us-famli-pl/src/annotatedTrain.csv\")\n",
    "dfTest = pd.read_csv(\"/mnt/raid/home/ayrisbud/us-famli-pl/src/annotatedTest.csv\")\n",
    "dfVal =pd.read_csv(\"/mnt/raid/home/ayrisbud/us-famli-pl/src/annotatedVal.csv\")"
   ]
  },
  {
   "cell_type": "code",
   "execution_count": 15,
   "metadata": {},
   "outputs": [
    {
     "name": "stdout",
     "output_type": "stream",
     "text": [
      "Index(['img_path', 'uuid', 'study_id', 'fetal_presentation_str', 'ga_boe',\n",
      "       'ga_expert', 'famli_edd_source', 'famli_edd_source_detail', 'dvp_crf',\n",
      "       'fetal_presentation', 'ga_absdiff', 'is_anchor', 'tag', 'pidscan',\n",
      "       'us_plac', 'us_previa', 'placenta_str', 'previa_str', 'Manufacturer',\n",
      "       'ManufacturerModelName', 'uuid_path_256', 'score', 'pred',\n",
      "       'pred_cluster', 'File', 'No structures visible', 'Head Visible',\n",
      "       'Abdomen Visible', 'Chest Visible', 'Femur Visible',\n",
      "       'Other arm or leg bones visible', 'Umbilical cord visible',\n",
      "       'Amniotic fluid visible', 'Placenta visible', 'Fetus or CRL visible',\n",
      "       'Maternal bladder visible', 'Head Measurable', 'Abdomen Measurable',\n",
      "       'Femur Measurable', 'Transverse plane for Head',\n",
      "       'Longituidnal plane for Head', 'Oblique or other plane for Head',\n",
      "       'Transverse plane for Abdomen', 'Longituidnal plane for Abdomen',\n",
      "       'Oblique or other plane for Abdomen', 'Transverse plane for Femur',\n",
      "       'Longituidnal plane for Femur', 'Oblique or other plane for Femur'],\n",
      "      dtype='object')\n"
     ]
    }
   ],
   "source": [
    "print(dfTest.columns)"
   ]
  },
  {
   "cell_type": "code",
   "execution_count": 16,
   "metadata": {},
   "outputs": [],
   "source": [
    "# myDf[\"Femur Visible\"] = 0"
   ]
  },
  {
   "cell_type": "code",
   "execution_count": 17,
   "metadata": {},
   "outputs": [],
   "source": [
    "dfMerged = pd.concat([dfTrain, dfVal], axis=0)\n",
    "dfMerged = pd.concat([dfMerged, dfTest], axis=0)"
   ]
  },
  {
   "cell_type": "code",
   "execution_count": 18,
   "metadata": {},
   "outputs": [
    {
     "name": "stdout",
     "output_type": "stream",
     "text": [
      "Index(['img_path', 'uuid', 'study_id', 'fetal_presentation_str', 'ga_boe',\n",
      "       'ga_expert', 'famli_edd_source', 'famli_edd_source_detail', 'dvp_crf',\n",
      "       'fetal_presentation', 'ga_absdiff', 'is_anchor', 'tag', 'pidscan',\n",
      "       'us_plac', 'us_previa', 'placenta_str', 'previa_str', 'Manufacturer',\n",
      "       'ManufacturerModelName', 'uuid_path_256', 'score', 'pred',\n",
      "       'pred_cluster', 'File', 'No structures visible', 'Head Visible',\n",
      "       'Abdomen Visible', 'Chest Visible', 'Femur Visible',\n",
      "       'Other arm or leg bones visible', 'Umbilical cord visible',\n",
      "       'Amniotic fluid visible', 'Placenta visible', 'Fetus or CRL visible',\n",
      "       'Maternal bladder visible', 'Head Measurable', 'Abdomen Measurable',\n",
      "       'Femur Measurable', 'Transverse plane for Head',\n",
      "       'Longituidnal plane for Head', 'Oblique or other plane for Head',\n",
      "       'Transverse plane for Abdomen', 'Longituidnal plane for Abdomen',\n",
      "       'Oblique or other plane for Abdomen', 'Transverse plane for Femur',\n",
      "       'Longituidnal plane for Femur', 'Oblique or other plane for Femur'],\n",
      "      dtype='object')\n"
     ]
    }
   ],
   "source": [
    "dfMerged.head()\n",
    "print(dfMerged.columns)\n",
    "# myDf.head()\n",
    "# print(dfMerged[\"Amniotic fluid visible\"].value_counts())"
   ]
  },
  {
   "cell_type": "code",
   "execution_count": 19,
   "metadata": {},
   "outputs": [],
   "source": [
    "columnsToDelete1 = [\n",
    "       'Chest Visible',\n",
    "       'Other arm or leg bones visible', 'Umbilical cord visible',\n",
    "       'Fetus or CRL visible', 'Femur Visible',\n",
    "       'Maternal bladder visible', 'Head Measurable', 'Abdomen Measurable',\n",
    "       'Femur Measurable', 'Transverse plane for Head',\n",
    "       'Longituidnal plane for Head', 'Oblique or other plane for Head',\n",
    "       'Transverse plane for Abdomen', 'Longituidnal plane for Abdomen',\n",
    "       'Oblique or other plane for Abdomen', 'Transverse plane for Femur',\n",
    "       'Longituidnal plane for Femur', 'Oblique or other plane for Femur']"
   ]
  },
  {
   "cell_type": "code",
   "execution_count": 20,
   "metadata": {},
   "outputs": [],
   "source": [
    "dfMerged = dfMerged.drop(columns=columnsToDelete1)\n"
   ]
  },
  {
   "cell_type": "code",
   "execution_count": 21,
   "metadata": {},
   "outputs": [
    {
     "name": "stdout",
     "output_type": "stream",
     "text": [
      "Index(['img_path', 'uuid', 'study_id', 'fetal_presentation_str', 'ga_boe',\n",
      "       'ga_expert', 'famli_edd_source', 'famli_edd_source_detail', 'dvp_crf',\n",
      "       'fetal_presentation', 'ga_absdiff', 'is_anchor', 'tag', 'pidscan',\n",
      "       'us_plac', 'us_previa', 'placenta_str', 'previa_str', 'Manufacturer',\n",
      "       'ManufacturerModelName', 'uuid_path_256', 'score', 'pred',\n",
      "       'pred_cluster', 'File', 'No structures visible', 'Head Visible',\n",
      "       'Abdomen Visible', 'Amniotic fluid visible', 'Placenta visible'],\n",
      "      dtype='object')\n"
     ]
    }
   ],
   "source": [
    "print(dfMerged.columns)"
   ]
  },
  {
   "cell_type": "code",
   "execution_count": 22,
   "metadata": {},
   "outputs": [],
   "source": [
    "from skmultilearn.model_selection import iterative_train_test_split"
   ]
  },
  {
   "cell_type": "code",
   "execution_count": 23,
   "metadata": {},
   "outputs": [],
   "source": [
    "# dfMerged1 = dfMergedFullNoDuplicates.reset_index(inplace=True)\n",
    "\n"
   ]
  },
  {
   "cell_type": "code",
   "execution_count": 24,
   "metadata": {},
   "outputs": [
    {
     "name": "stdout",
     "output_type": "stream",
     "text": [
      "Head Visible\n",
      "0    2508\n",
      "1     991\n",
      "Name: count, dtype: int64\n",
      "Abdomen Visible\n",
      "0    2949\n",
      "1     550\n",
      "Name: count, dtype: int64\n",
      "Placenta visible\n",
      "0    2505\n",
      "1     994\n",
      "Name: count, dtype: int64\n",
      "No structures visible\n",
      "0    2783\n",
      "1     716\n",
      "Name: count, dtype: int64\n",
      "Amniotic fluid visible\n",
      "1    2407\n",
      "0    1092\n",
      "Name: count, dtype: int64\n"
     ]
    }
   ],
   "source": [
    "print(dfMerged[\"Head Visible\"].value_counts())\n",
    "print(dfMerged[\"Abdomen Visible\"].value_counts())\n",
    "print(dfMerged[\"Placenta visible\"].value_counts())\n",
    "# print(dfMerged[\"Femur Visible\"].value_counts())\n",
    "print(dfMerged[\"No structures visible\"].value_counts())\n",
    "print(dfMerged[\"Amniotic fluid visible\"].value_counts())"
   ]
  },
  {
   "cell_type": "code",
   "execution_count": 28,
   "metadata": {},
   "outputs": [],
   "source": [
    "dfMergedX = dfMerged.iloc[:, 0:-5].values\n",
    "dfMergedY = dfMerged.iloc[:, -5:].values"
   ]
  },
  {
   "cell_type": "code",
   "execution_count": 32,
   "metadata": {},
   "outputs": [
    {
     "name": "stdout",
     "output_type": "stream",
     "text": [
      "<class 'numpy.ndarray'>\n",
      "(3499, 5)\n",
      "[[1 0 0 0 0]\n",
      " [0 1 0 1 1]\n",
      " [0 1 0 1 0]\n",
      " ...\n",
      " [1 0 0 0 0]\n",
      " [1 0 0 0 0]\n",
      " [1 0 0 0 0]]\n"
     ]
    }
   ],
   "source": [
    "print(type(dfMergedX))\n",
    "print(dfMergedY.shape)\n",
    "print(dfMergedY)"
   ]
  },
  {
   "cell_type": "code",
   "execution_count": 33,
   "metadata": {},
   "outputs": [
    {
     "data": {
      "text/plain": [
       "img_path                    object\n",
       "uuid                        object\n",
       "study_id                    object\n",
       "fetal_presentation_str      object\n",
       "ga_boe                     float64\n",
       "ga_expert                  float64\n",
       "famli_edd_source            object\n",
       "famli_edd_source_detail     object\n",
       "dvp_crf                    float64\n",
       "fetal_presentation         float64\n",
       "ga_absdiff                 float64\n",
       "is_anchor                    int64\n",
       "tag                         object\n",
       "pidscan                     object\n",
       "us_plac                    float64\n",
       "us_previa                  float64\n",
       "placenta_str                object\n",
       "previa_str                  object\n",
       "Manufacturer                object\n",
       "ManufacturerModelName       object\n",
       "uuid_path_256               object\n",
       "score                      float64\n",
       "pred                       float64\n",
       "pred_cluster                 int64\n",
       "File                        object\n",
       "No structures visible        int64\n",
       "Head Visible                 int64\n",
       "Abdomen Visible              int64\n",
       "Amniotic fluid visible       int64\n",
       "Placenta visible             int64\n",
       "dtype: object"
      ]
     },
     "execution_count": 33,
     "metadata": {},
     "output_type": "execute_result"
    }
   ],
   "source": [
    "dfMerged.dtypes\n",
    "\n"
   ]
  },
  {
   "cell_type": "code",
   "execution_count": 34,
   "metadata": {},
   "outputs": [],
   "source": [
    "myTrainDfX, myTrainDfY, myTestDfX, myTestDfY = iterative_train_test_split(X=dfMergedX, y=dfMergedY, test_size=0.2)"
   ]
  },
  {
   "cell_type": "code",
   "execution_count": 35,
   "metadata": {},
   "outputs": [],
   "source": [
    "myTrainDfX, myTrainDfY, myValDfX, myValDfY = iterative_train_test_split(X=myTrainDfX, y=myTrainDfY, test_size=0.2)"
   ]
  },
  {
   "cell_type": "code",
   "execution_count": 36,
   "metadata": {},
   "outputs": [
    {
     "name": "stdout",
     "output_type": "stream",
     "text": [
      "<class 'numpy.ndarray'>\n"
     ]
    }
   ],
   "source": [
    "print(type(myTrainDfY))"
   ]
  },
  {
   "cell_type": "code",
   "execution_count": 37,
   "metadata": {},
   "outputs": [],
   "source": [
    "myTrainDf = pd.concat([pd.DataFrame(myTrainDfX, columns=dfMerged.columns[:-5]), pd.DataFrame(myTrainDfY, columns=dfMerged.columns[-5:])], axis=1)\n",
    "myTestDf = pd.concat([pd.DataFrame(myTestDfX, columns=dfMerged.columns[:-5]), pd.DataFrame(myTestDfY, columns=dfMerged.columns[-5:])], axis=1)\n",
    "myValDf = pd.concat([pd.DataFrame(myValDfX, columns=dfMerged.columns[:-5]), pd.DataFrame(myValDfY, columns=dfMerged.columns[-5:])], axis=1)\n",
    "\n",
    "# myTestDf = pd.concat([myTestDfX, myTestDfY], axis=1)\n",
    "# myValDf = pd.concat([myValDfX, myValDfY], axis=1)"
   ]
  },
  {
   "cell_type": "code",
   "execution_count": 38,
   "metadata": {},
   "outputs": [
    {
     "name": "stdout",
     "output_type": "stream",
     "text": [
      "(2239, 30)\n",
      "(700, 30)\n",
      "(560, 30)\n"
     ]
    }
   ],
   "source": [
    "print(myTrainDf.shape)\n",
    "print(myTestDf.shape)\n",
    "print(myValDf.shape)"
   ]
  },
  {
   "cell_type": "code",
   "execution_count": 39,
   "metadata": {},
   "outputs": [
    {
     "name": "stdout",
     "output_type": "stream",
     "text": [
      "Index(['img_path', 'uuid', 'study_id', 'fetal_presentation_str', 'ga_boe',\n",
      "       'ga_expert', 'famli_edd_source', 'famli_edd_source_detail', 'dvp_crf',\n",
      "       'fetal_presentation', 'ga_absdiff', 'is_anchor', 'tag', 'pidscan',\n",
      "       'us_plac', 'us_previa', 'placenta_str', 'previa_str', 'Manufacturer',\n",
      "       'ManufacturerModelName', 'uuid_path_256', 'score', 'pred',\n",
      "       'pred_cluster', 'File', 'No structures visible', 'Head Visible',\n",
      "       'Abdomen Visible', 'Amniotic fluid visible', 'Placenta visible'],\n",
      "      dtype='object')\n"
     ]
    }
   ],
   "source": [
    "print(myTrainDf.columns)"
   ]
  },
  {
   "cell_type": "code",
   "execution_count": 41,
   "metadata": {},
   "outputs": [
    {
     "name": "stdout",
     "output_type": "stream",
     "text": [
      "Head Visible\n",
      "0    1605\n",
      "1     634\n",
      "Name: count, dtype: int64\n",
      "Abdomen Visible\n",
      "0    1887\n",
      "1     352\n",
      "Name: count, dtype: int64\n",
      "Placenta visible\n",
      "0    1603\n",
      "1     636\n",
      "Name: count, dtype: int64\n",
      "Amniotic fluid visible\n",
      "1    1541\n",
      "0     698\n",
      "Name: count, dtype: int64\n",
      "No structures visible\n",
      "0    1781\n",
      "1     458\n",
      "Name: count, dtype: int64\n",
      "Head Visible\n",
      "0    502\n",
      "1    198\n",
      "Name: count, dtype: int64\n",
      "Abdomen Visible\n",
      "0    590\n",
      "1    110\n",
      "Name: count, dtype: int64\n",
      "Placenta visible\n",
      "0    501\n",
      "1    199\n",
      "Name: count, dtype: int64\n",
      "Amniotic fluid visible\n",
      "1    481\n",
      "0    219\n",
      "Name: count, dtype: int64\n",
      "No structures visible\n",
      "0    557\n",
      "1    143\n",
      "Name: count, dtype: int64\n",
      "Head Visible\n",
      "0    401\n",
      "1    159\n",
      "Name: count, dtype: int64\n",
      "Abdomen Visible\n",
      "0    472\n",
      "1     88\n",
      "Name: count, dtype: int64\n",
      "Placenta visible\n",
      "0    401\n",
      "1    159\n",
      "Name: count, dtype: int64\n",
      "Amniotic fluid visible\n",
      "1    385\n",
      "0    175\n",
      "Name: count, dtype: int64\n",
      "No structures visible\n",
      "0    445\n",
      "1    115\n",
      "Name: count, dtype: int64\n"
     ]
    }
   ],
   "source": [
    "print(myTrainDf[\"Head Visible\"].value_counts())\n",
    "print(myTrainDf[\"Abdomen Visible\"].value_counts())\n",
    "print(myTrainDf[\"Placenta visible\"].value_counts())\n",
    "print(myTrainDf[\"Amniotic fluid visible\"].value_counts())\n",
    "print(myTrainDf[\"No structures visible\"].value_counts())\n",
    "\n",
    "print(myTestDf[\"Head Visible\"].value_counts())\n",
    "print(myTestDf[\"Abdomen Visible\"].value_counts())\n",
    "print(myTestDf[\"Placenta visible\"].value_counts())\n",
    "print(myTestDf[\"Amniotic fluid visible\"].value_counts())\n",
    "print(myTestDf[\"No structures visible\"].value_counts())\n",
    "\n",
    "print(myValDf[\"Head Visible\"].value_counts())\n",
    "print(myValDf[\"Abdomen Visible\"].value_counts())\n",
    "print(myValDf[\"Placenta visible\"].value_counts())\n",
    "print(myValDf[\"Amniotic fluid visible\"].value_counts())\n",
    "print(myValDf[\"No structures visible\"].value_counts())\n"
   ]
  },
  {
   "cell_type": "code",
   "execution_count": 44,
   "metadata": {},
   "outputs": [],
   "source": [
    "myTrainDf.to_csv(\"/mnt/raid/home/ayrisbud/us-famli-pl/src/originalAnnotatedStrtifiedTrain.csv\")\n",
    "myTestDf.to_csv(\"/mnt/raid/home/ayrisbud/us-famli-pl/src/originalAnnotatedStrtifiedTest.csv\")\n",
    "myValDf.to_csv(\"/mnt/raid/home/ayrisbud/us-famli-pl/src/originalAnnotatedStrtifiedVal.csv\")"
   ]
  },
  {
   "cell_type": "code",
   "execution_count": null,
   "metadata": {},
   "outputs": [],
   "source": [
    "myTrainDf.columns"
   ]
  },
  {
   "cell_type": "code",
   "execution_count": null,
   "metadata": {},
   "outputs": [],
   "source": [
    "# myDf1 = myDf.replace(np.nan, \"NO\")\n",
    "# myDf1.head()\n",
    "myDf.head()"
   ]
  },
  {
   "cell_type": "code",
   "execution_count": null,
   "metadata": {},
   "outputs": [],
   "source": [
    "myDf1 = myDf1.replace(\"NO\", 0)\n",
    "myDf1 = myDf1.replace(\"YES\", 1)\n",
    "myDf1.head()\n"
   ]
  },
  {
   "cell_type": "code",
   "execution_count": null,
   "metadata": {},
   "outputs": [],
   "source": [
    "myDf1.columns\n",
    "myLabels = ['Head Visible',\n",
    "       'Abdomen Visible', 'Chest Visible', 'Femur Visible',\n",
    "       'Other arm or leg bones visible', 'Umbilical cord visible',\n",
    "       'Amniotic fluid visible', 'Placenta visible', 'Fetus or CRL visible',\n",
    "       'Maternal bladder visible', 'Head Measurable', 'Abdomen Measurable',\n",
    "       'Femur Measurable']"
   ]
  },
  {
   "cell_type": "code",
   "execution_count": null,
   "metadata": {},
   "outputs": [],
   "source": [
    "train_df, test_df = train_test_split(myDf1, test_size=0.2)"
   ]
  },
  {
   "cell_type": "code",
   "execution_count": null,
   "metadata": {},
   "outputs": [],
   "source": [
    "train_df, val_df = train_test_split(train_df, test_size=0.2)"
   ]
  },
  {
   "cell_type": "code",
   "execution_count": null,
   "metadata": {},
   "outputs": [],
   "source": [
    "print(train_df.head())"
   ]
  },
  {
   "cell_type": "code",
   "execution_count": null,
   "metadata": {},
   "outputs": [],
   "source": [
    "train_df.to_csv(\"./annotatedTrain.csv\", index=False)\n",
    "test_df.to_csv(\"./annotatedTest.csv\", index=False)\n",
    "val_df.to_csv(\"./annotatedVal.csv\", index=False)"
   ]
  },
  {
   "cell_type": "code",
   "execution_count": null,
   "metadata": {},
   "outputs": [],
   "source": [
    "myTrain_df = pd.read_csv(\"./annotatedTrain.csv\")\n",
    "myTrain_df.head()"
   ]
  },
  {
   "cell_type": "code",
   "execution_count": null,
   "metadata": {},
   "outputs": [],
   "source": []
  }
 ],
 "metadata": {
  "kernelspec": {
   "display_name": "torch_us",
   "language": "python",
   "name": "python3"
  },
  "language_info": {
   "codemirror_mode": {
    "name": "ipython",
    "version": 3
   },
   "file_extension": ".py",
   "mimetype": "text/x-python",
   "name": "python",
   "nbconvert_exporter": "python",
   "pygments_lexer": "ipython3",
   "version": "3.10.8"
  },
  "orig_nbformat": 4
 },
 "nbformat": 4,
 "nbformat_minor": 2
}
