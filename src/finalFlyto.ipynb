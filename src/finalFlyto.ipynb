{
 "cells": [
  {
   "cell_type": "code",
   "execution_count": 23,
   "metadata": {},
   "outputs": [],
   "source": [
    "import pandas as pd\n",
    "import numpy as np"
   ]
  },
  {
   "cell_type": "code",
   "execution_count": 24,
   "metadata": {},
   "outputs": [],
   "source": [
    "def select_last_flytos(image_frames_info, sweepid_column='uuid', tag_column = \"tag\"):\n",
    "    ## Select last frame from each flyto sweep -- WE'RE ASSUMING COMPLETE SWEEPS!!!\n",
    "    # idx = image_frames_info[tag_column].isin(['BPD', 'TCD', 'AC', 'FL', 'CRL', 'HC'])\n",
    "    \"\"\"\n",
    "    BPD: Biparietal Diameter\n",
    "    TCD: Transcranial doppler\n",
    "    AC:  Abdominal Circumference\n",
    "    FL:  Femur Length\n",
    "    CRL: Crown-Rump Length\n",
    "    HC:  Head Circumference\n",
    "    \"\"\"\n",
    "    # idx = image_frames_info[tag_column].isin(['FL']) # around 15k \n",
    "    idx = image_frames_info[tag_column].isin(['FL', 'AC']) # around 15k \n",
    "    # idx = image_frames_info[tag_column].isin(['BPD', 'HC']) #around 16k\n",
    "    # idx = image_frames_info[tag_column].isin(['AC']) # around 15k\n",
    "    \n",
    "\n",
    "    if idx.sum() == 0:\n",
    "        print(\"!!WARNING: file has no flytos!!\")\n",
    "        return pd.DataFrame()\n",
    "    else:\n",
    "        image_frames_info_flyto_tags = image_frames_info[idx].copy()\n",
    "\n",
    "        ## Determine frame number from image path\n",
    "        image_frames_info_flyto_tags['frame_num'] = image_frames_info_flyto_tags['img_path'].map(lambda x: x.split('/')[-1].split('.')[0]).astype(int)\n",
    "\n",
    "        u = image_frames_info_flyto_tags.groupby(sweepid_column).apply(lambda df: df.frame_num == df.frame_num.max() )\n",
    "        assert u.shape[0] > 0\n",
    "\n",
    "        last_flyto_idx = u.reset_index().set_index('level_1').frame_num\n",
    "        assert set(image_frames_info_flyto_tags.index) == set(last_flyto_idx.index)\n",
    "\n",
    "        return image_frames_info_flyto_tags[last_flyto_idx]"
   ]
  },
  {
   "cell_type": "code",
   "execution_count": 25,
   "metadata": {},
   "outputs": [],
   "source": [
    "myCsv = pd.read_parquet(\"/mnt/raid/C1_ML_Analysis/CSV_files/extract_frames_blind_sweeps_c1_30082022_wscores_1e-4_train.parquet\")"
   ]
  },
  {
   "cell_type": "code",
   "execution_count": 26,
   "metadata": {},
   "outputs": [
    {
     "name": "stdout",
     "output_type": "stream",
     "text": [
      "                                            img_path  \\\n",
      "0  extract_frames_blind_sweeps/dataset_C1_cines_m...   \n",
      "1  extract_frames_blind_sweeps/dataset_C1_cines_m...   \n",
      "2  extract_frames_blind_sweeps/dataset_C1_cines_m...   \n",
      "3  extract_frames_blind_sweeps/dataset_C1_cines_m...   \n",
      "4  extract_frames_blind_sweeps/dataset_C1_cines_m...   \n",
      "\n",
      "                                   uuid    study_id fetal_presentation_str  \\\n",
      "0  1b5c4639-6f1e-45ef-8b7a-ddd6d5fc8d84  VIL-0495-1               Cephalic   \n",
      "1  1b5c4639-6f1e-45ef-8b7a-ddd6d5fc8d84  VIL-0495-1               Cephalic   \n",
      "2  1b5c4639-6f1e-45ef-8b7a-ddd6d5fc8d84  VIL-0495-1               Cephalic   \n",
      "3  1b5c4639-6f1e-45ef-8b7a-ddd6d5fc8d84  VIL-0495-1               Cephalic   \n",
      "4  1b5c4639-6f1e-45ef-8b7a-ddd6d5fc8d84  VIL-0495-1               Cephalic   \n",
      "\n",
      "   ga_boe  ga_expert famli_edd_source famli_edd_source_detail  dvp_crf  \\\n",
      "0   132.0  130.96153         UNC EPIC   LAST MENSTRUAL PERIOD      8.0   \n",
      "1   132.0  130.96153         UNC EPIC   LAST MENSTRUAL PERIOD      8.0   \n",
      "2   132.0  130.96153         UNC EPIC   LAST MENSTRUAL PERIOD      8.0   \n",
      "3   132.0  130.96153         UNC EPIC   LAST MENSTRUAL PERIOD      8.0   \n",
      "4   132.0  130.96153         UNC EPIC   LAST MENSTRUAL PERIOD      8.0   \n",
      "\n",
      "   fetal_presentation  ...     pidscan  us_plac us_previa placenta_str  \\\n",
      "0                 1.0  ...  VIL-0495-1      1.0       0.0     Anterior   \n",
      "1                 1.0  ...  VIL-0495-1      1.0       0.0     Anterior   \n",
      "2                 1.0  ...  VIL-0495-1      1.0       0.0     Anterior   \n",
      "3                 1.0  ...  VIL-0495-1      1.0       0.0     Anterior   \n",
      "4                 1.0  ...  VIL-0495-1      1.0       0.0     Anterior   \n",
      "\n",
      "   previa_str   Manufacturer ManufacturerModelName  \\\n",
      "0      Normal  GE Healthcare             Voluson S   \n",
      "1      Normal  GE Healthcare             Voluson S   \n",
      "2      Normal  GE Healthcare             Voluson S   \n",
      "3      Normal  GE Healthcare             Voluson S   \n",
      "4      Normal  GE Healthcare             Voluson S   \n",
      "\n",
      "                                       uuid_path_256     score        pred  \n",
      "0  dataset_C1_cines_masked_resampled_256_spc075_u...  0.807815  122.101692  \n",
      "1  dataset_C1_cines_masked_resampled_256_spc075_u...  0.904867  121.835770  \n",
      "2  dataset_C1_cines_masked_resampled_256_spc075_u...  0.931140  121.175552  \n",
      "3  dataset_C1_cines_masked_resampled_256_spc075_u...  0.873471  122.326279  \n",
      "4  dataset_C1_cines_masked_resampled_256_spc075_u...  0.877912  123.946068  \n",
      "\n",
      "[5 rows x 23 columns]\n"
     ]
    }
   ],
   "source": [
    "print(myCsv.head())"
   ]
  },
  {
   "cell_type": "code",
   "execution_count": 27,
   "metadata": {},
   "outputs": [
    {
     "name": "stdout",
     "output_type": "stream",
     "text": [
      "Index(['img_path', 'uuid', 'study_id', 'fetal_presentation_str', 'ga_boe',\n",
      "       'ga_expert', 'famli_edd_source', 'famli_edd_source_detail', 'dvp_crf',\n",
      "       'fetal_presentation', 'ga_absdiff', 'is_anchor', 'tag', 'pidscan',\n",
      "       'us_plac', 'us_previa', 'placenta_str', 'previa_str', 'Manufacturer',\n",
      "       'ManufacturerModelName', 'uuid_path_256', 'score', 'pred'],\n",
      "      dtype='object')\n",
      "(23804618, 23)\n"
     ]
    }
   ],
   "source": [
    "print(myCsv.columns)\n",
    "print(myCsv.shape)"
   ]
  },
  {
   "cell_type": "code",
   "execution_count": 28,
   "metadata": {},
   "outputs": [
    {
     "name": "stdout",
     "output_type": "stream",
     "text": [
      "0           AC\n",
      "1           AC\n",
      "2           AC\n",
      "3           AC\n",
      "4           AC\n",
      "            ..\n",
      "23804613    NM\n",
      "23804614    NM\n",
      "23804615    NM\n",
      "23804616    NM\n",
      "23804617    NM\n",
      "Name: tag, Length: 23804618, dtype: object\n"
     ]
    }
   ],
   "source": [
    "print(myCsv[\"tag\"])"
   ]
  },
  {
   "cell_type": "code",
   "execution_count": 29,
   "metadata": {},
   "outputs": [
    {
     "name": "stderr",
     "output_type": "stream",
     "text": [
      "/tmp/ipykernel_3151870/1837711600.py:33: UserWarning: Boolean Series key will be reindexed to match DataFrame index.\n",
      "  return image_frames_info_flyto_tags[last_flyto_idx]\n"
     ]
    }
   ],
   "source": [
    "myList = select_last_flytos(myCsv, sweepid_column='uuid', tag_column = \"tag\")"
   ]
  },
  {
   "cell_type": "code",
   "execution_count": 30,
   "metadata": {},
   "outputs": [
    {
     "name": "stdout",
     "output_type": "stream",
     "text": [
      "(31125, 24)\n",
      "Index(['img_path', 'uuid', 'study_id', 'fetal_presentation_str', 'ga_boe',\n",
      "       'ga_expert', 'famli_edd_source', 'famli_edd_source_detail', 'dvp_crf',\n",
      "       'fetal_presentation', 'ga_absdiff', 'is_anchor', 'tag', 'pidscan',\n",
      "       'us_plac', 'us_previa', 'placenta_str', 'previa_str', 'Manufacturer',\n",
      "       'ManufacturerModelName', 'uuid_path_256', 'score', 'pred', 'frame_num'],\n",
      "      dtype='object')\n"
     ]
    }
   ],
   "source": [
    "print(myList.shape)\n",
    "# print(myList.head)\n",
    "print(myList.columns)"
   ]
  },
  {
   "cell_type": "code",
   "execution_count": 31,
   "metadata": {},
   "outputs": [],
   "source": [
    "myList[\"No structures visible\"] = 0\n",
    "myList[\"Head Visible\"] = 0\n",
    "myList[\"Abdomen Visible\"] = np.where(myList[\"tag\"]==\"AC\", 1, 0)\n",
    "myList[\"Femur Visible\"] = np.where(myList[\"tag\"]==\"FL\", 1, 0)\n",
    "myList[\"Placenta visible\"] = 0"
   ]
  },
  {
   "cell_type": "code",
   "execution_count": 32,
   "metadata": {},
   "outputs": [
    {
     "name": "stdout",
     "output_type": "stream",
     "text": [
      "(31125, 29)\n"
     ]
    }
   ],
   "source": [
    "print(myList.shape)"
   ]
  },
  {
   "cell_type": "code",
   "execution_count": 34,
   "metadata": {},
   "outputs": [
    {
     "name": "stdout",
     "output_type": "stream",
     "text": [
      "Abdomen Visible\n",
      "1    15898\n",
      "0    15227\n",
      "Name: count, dtype: int64\n",
      "Femur Visible\n",
      "0    15898\n",
      "1    15227\n",
      "Name: count, dtype: int64\n"
     ]
    }
   ],
   "source": [
    "print(myList[\"Abdomen Visible\"].value_counts())\n",
    "print(myList[\"Femur Visible\"].value_counts())"
   ]
  },
  {
   "cell_type": "code",
   "execution_count": 39,
   "metadata": {},
   "outputs": [],
   "source": [
    "filtered_df_abdomen = myList[myList[\"Abdomen Visible\"] == 1]\n",
    "filtered_df_femur = myList[myList[\"Femur Visible\"] == 1]\n",
    "sampledAbdomen = filtered_df_abdomen.sample(n=1000)\n",
    "sampledFemur = filtered_df_femur.sample(n=2000)"
   ]
  },
  {
   "cell_type": "code",
   "execution_count": 40,
   "metadata": {},
   "outputs": [
    {
     "name": "stdout",
     "output_type": "stream",
     "text": [
      "(1000, 29)\n"
     ]
    }
   ],
   "source": [
    "print(sampledAbdomen.shape)"
   ]
  },
  {
   "cell_type": "code",
   "execution_count": 41,
   "metadata": {},
   "outputs": [],
   "source": [
    "dualMerged = pd.concat([sampledAbdomen, sampledFemur], axis=0)"
   ]
  },
  {
   "cell_type": "code",
   "execution_count": 42,
   "metadata": {},
   "outputs": [
    {
     "name": "stdout",
     "output_type": "stream",
     "text": [
      "(3000, 29)\n"
     ]
    }
   ],
   "source": [
    "print(dualMerged.shape)"
   ]
  },
  {
   "cell_type": "code",
   "execution_count": 43,
   "metadata": {},
   "outputs": [],
   "source": [
    "dualMerged.to_csv(\"/mnt/raid/home/ayrisbud/us-famli-pl/src/abdomenFemur.csv\", index=False)"
   ]
  },
  {
   "cell_type": "code",
   "execution_count": null,
   "metadata": {},
   "outputs": [],
   "source": []
  }
 ],
 "metadata": {
  "kernelspec": {
   "display_name": "torch_us",
   "language": "python",
   "name": "python3"
  },
  "language_info": {
   "codemirror_mode": {
    "name": "ipython",
    "version": 3
   },
   "file_extension": ".py",
   "mimetype": "text/x-python",
   "name": "python",
   "nbconvert_exporter": "python",
   "pygments_lexer": "ipython3",
   "version": "3.10.8"
  }
 },
 "nbformat": 4,
 "nbformat_minor": 2
}
