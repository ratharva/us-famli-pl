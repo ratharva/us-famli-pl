{
 "cells": [
  {
   "cell_type": "code",
   "execution_count": 1,
   "metadata": {},
   "outputs": [],
   "source": [
    "import numpy as np\n",
    "import pandas as pd\n",
    "from sklearn.model_selection import train_test_split"
   ]
  },
  {
   "cell_type": "code",
   "execution_count": 2,
   "metadata": {},
   "outputs": [],
   "source": [
    "# filePath = \"/mnt/raid/home/ayrisbud/us-famli-pl/src/new_annotated_data.csv\"\n",
    "myDf = pd.read_csv(\"/mnt/raid/home/ayrisbud/us-famli-pl/src/new_annotated_data.csv\")\n",
    "dfTrain = pd.read_csv(\"/mnt/raid/home/ayrisbud/us-famli-pl/src/annotatedTrain.csv\")\n",
    "dfTest = pd.read_csv(\"/mnt/raid/home/ayrisbud/us-famli-pl/src/annotatedTest.csv\")\n",
    "dfVal =pd.read_csv(\"/mnt/raid/home/ayrisbud/us-famli-pl/src/annotatedVal.csv\")"
   ]
  },
  {
   "cell_type": "code",
   "execution_count": 3,
   "metadata": {},
   "outputs": [],
   "source": [
    "myDf[\"Femur Visible\"] = 0"
   ]
  },
  {
   "cell_type": "code",
   "execution_count": 4,
   "metadata": {},
   "outputs": [],
   "source": [
    "dfMerged = pd.concat([dfTrain, dfVal], axis=0)\n",
    "dfMerged = pd.concat([dfMerged, dfTest], axis=0)"
   ]
  },
  {
   "cell_type": "code",
   "execution_count": 5,
   "metadata": {},
   "outputs": [
    {
     "name": "stdout",
     "output_type": "stream",
     "text": [
      "Index(['img_path', 'uuid', 'study_id', 'fetal_presentation_str', 'ga_boe',\n",
      "       'ga_expert', 'famli_edd_source', 'famli_edd_source_detail', 'dvp_crf',\n",
      "       'fetal_presentation', 'ga_absdiff', 'is_anchor', 'tag', 'pidscan',\n",
      "       'us_plac', 'us_previa', 'placenta_str', 'previa_str', 'Manufacturer',\n",
      "       'ManufacturerModelName', 'uuid_path_256', 'score', 'pred',\n",
      "       'pred_cluster', 'File', 'No structures visible', 'Head Visible',\n",
      "       'Abdomen Visible', 'Chest Visible', 'Femur Visible',\n",
      "       'Other arm or leg bones visible', 'Umbilical cord visible',\n",
      "       'Amniotic fluid visible', 'Placenta visible', 'Fetus or CRL visible',\n",
      "       'Maternal bladder visible', 'Head Measurable', 'Abdomen Measurable',\n",
      "       'Femur Measurable', 'Transverse plane for Head',\n",
      "       'Longituidnal plane for Head', 'Oblique or other plane for Head',\n",
      "       'Transverse plane for Abdomen', 'Longituidnal plane for Abdomen',\n",
      "       'Oblique or other plane for Abdomen', 'Transverse plane for Femur',\n",
      "       'Longituidnal plane for Femur', 'Oblique or other plane for Femur'],\n",
      "      dtype='object')\n",
      "Amniotic fluid visible\n",
      "1    2407\n",
      "0    1092\n",
      "Name: count, dtype: int64\n",
      "Index(['Unnamed: 0', 'img_path', 'uuid', 'study_id', 'fetal_presentation_str',\n",
      "       'ga_boe', 'ga_expert', 'famli_edd_source', 'famli_edd_source_detail',\n",
      "       'dvp_crf', 'fetal_presentation', 'ga_absdiff', 'is_anchor', 'tag',\n",
      "       'pidscan', 'us_plac', 'us_previa', 'placenta_str', 'previa_str',\n",
      "       'Manufacturer', 'ManufacturerModelName', 'uuid_path_256', 'score',\n",
      "       'pred', 'File', 'No_structures_visible', 'Head_Visible',\n",
      "       'Abdomen_Visible', 'Amniotic_fluid_visible', 'Placenta_visible',\n",
      "       'Fetus_or_CRL_visible', 'Femur Visible'],\n",
      "      dtype='object')\n"
     ]
    }
   ],
   "source": [
    "dfMerged.head()\n",
    "print(dfMerged.columns)\n",
    "# myDf.head()\n",
    "print(dfMerged[\"Amniotic fluid visible\"].value_counts())\n",
    "print(myDf.columns)"
   ]
  },
  {
   "cell_type": "code",
   "execution_count": 6,
   "metadata": {},
   "outputs": [
    {
     "name": "stdout",
     "output_type": "stream",
     "text": [
      "32\n",
      "48\n"
     ]
    }
   ],
   "source": [
    "myDfCols = myDf.columns\n",
    "dfMergedCols = dfMerged.columns\n",
    "print(len(myDfCols))\n",
    "print(len(dfMergedCols))"
   ]
  },
  {
   "cell_type": "code",
   "execution_count": 7,
   "metadata": {},
   "outputs": [],
   "source": [
    "myDf.rename(columns={\"No_structures_visible\": \"No structures visible\"}, inplace=True)\n",
    "myDf.rename(columns={\"Head_Visible\": \"Head Visible\"}, inplace=True)\n",
    "myDf.rename(columns={\"Abdomen_Visible\": \"Abdomen Visible\"}, inplace=True)\n",
    "myDf.rename(columns={\"Amniotic_fluid_visible\": \"Amniotic fluid visible\"}, inplace=True)\n",
    "myDf.rename(columns={\"Placenta_visible\": \"Placenta visible\"}, inplace=True)\n",
    "myDf.rename(columns={\"Fetus_or_CRL_visible\": \"Fetus or CRL visible\"}, inplace=True)"
   ]
  },
  {
   "cell_type": "code",
   "execution_count": 8,
   "metadata": {},
   "outputs": [],
   "source": [
    "myDf.columns\n",
    "dfMerged.columns\n",
    "myDfCols = myDf.columns\n",
    "dfMergedCols = dfMerged.columns"
   ]
  },
  {
   "cell_type": "code",
   "execution_count": 9,
   "metadata": {},
   "outputs": [
    {
     "name": "stdout",
     "output_type": "stream",
     "text": [
      "['Unnamed: 0']\n"
     ]
    }
   ],
   "source": [
    "temp3 = []\n",
    "for element in myDfCols:\n",
    "    if element not in dfMergedCols:\n",
    "        temp3.append(element)\n",
    " \n",
    "print(temp3)"
   ]
  },
  {
   "cell_type": "code",
   "execution_count": 10,
   "metadata": {},
   "outputs": [
    {
     "name": "stdout",
     "output_type": "stream",
     "text": [
      "['pred_cluster', 'Chest Visible', 'Other arm or leg bones visible', 'Umbilical cord visible', 'Maternal bladder visible', 'Head Measurable', 'Abdomen Measurable', 'Femur Measurable', 'Transverse plane for Head', 'Longituidnal plane for Head', 'Oblique or other plane for Head', 'Transverse plane for Abdomen', 'Longituidnal plane for Abdomen', 'Oblique or other plane for Abdomen', 'Transverse plane for Femur', 'Longituidnal plane for Femur', 'Oblique or other plane for Femur']\n"
     ]
    }
   ],
   "source": [
    "temp3 = []\n",
    "for element in dfMergedCols:\n",
    "    if element not in myDfCols:\n",
    "        temp3.append(element)\n",
    " \n",
    "print(temp3)"
   ]
  },
  {
   "cell_type": "code",
   "execution_count": 11,
   "metadata": {},
   "outputs": [],
   "source": [
    "dfMerged = dfMerged.drop(columns=temp3)\n"
   ]
  },
  {
   "cell_type": "code",
   "execution_count": 12,
   "metadata": {},
   "outputs": [],
   "source": [
    "dfMergedFull = pd.concat([dfMerged, myDf], axis=0)"
   ]
  },
  {
   "cell_type": "code",
   "execution_count": 13,
   "metadata": {},
   "outputs": [
    {
     "data": {
      "text/plain": [
       "Index(['img_path', 'uuid', 'study_id', 'fetal_presentation_str', 'ga_boe',\n",
       "       'ga_expert', 'famli_edd_source', 'famli_edd_source_detail', 'dvp_crf',\n",
       "       'fetal_presentation', 'ga_absdiff', 'is_anchor', 'tag', 'pidscan',\n",
       "       'us_plac', 'us_previa', 'placenta_str', 'previa_str', 'Manufacturer',\n",
       "       'ManufacturerModelName', 'uuid_path_256', 'score', 'pred', 'File',\n",
       "       'No structures visible', 'Head Visible', 'Abdomen Visible',\n",
       "       'Femur Visible', 'Amniotic fluid visible', 'Placenta visible',\n",
       "       'Fetus or CRL visible', 'Unnamed: 0'],\n",
       "      dtype='object')"
      ]
     },
     "execution_count": 13,
     "metadata": {},
     "output_type": "execute_result"
    }
   ],
   "source": [
    "dfMergedFull.shape\n",
    "dfMergedFull.columns"
   ]
  },
  {
   "cell_type": "code",
   "execution_count": 14,
   "metadata": {},
   "outputs": [],
   "source": [
    "dfMergedFull = dfMergedFull.drop(dfMergedFull[dfMergedFull['Head Visible'] == \"NotQCed\"].index)"
   ]
  },
  {
   "cell_type": "code",
   "execution_count": 15,
   "metadata": {},
   "outputs": [
    {
     "data": {
      "text/plain": [
       "(6582, 32)"
      ]
     },
     "execution_count": 15,
     "metadata": {},
     "output_type": "execute_result"
    }
   ],
   "source": [
    "dfMergedFull.shape"
   ]
  },
  {
   "cell_type": "code",
   "execution_count": 16,
   "metadata": {},
   "outputs": [],
   "source": [
    "dfMergedFull = dfMergedFull.drop(columns=[\"Unnamed: 0\"], axis=1)"
   ]
  },
  {
   "cell_type": "code",
   "execution_count": 17,
   "metadata": {},
   "outputs": [],
   "source": [
    "dfMergedFull = dfMergedFull.astype({'No structures visible':'int', 'Head Visible':'int', 'Abdomen Visible':'int', 'Amniotic fluid visible':'int', 'Placenta visible':'int', 'Fetus or CRL visible':'int'})"
   ]
  },
  {
   "cell_type": "code",
   "execution_count": 18,
   "metadata": {},
   "outputs": [
    {
     "name": "stdout",
     "output_type": "stream",
     "text": [
      "uuid\n",
      "False    6098\n",
      "True      484\n",
      "Name: count, dtype: int64\n"
     ]
    }
   ],
   "source": [
    "duplicate_values = dfMergedFull['uuid'].duplicated()\n",
    "print(duplicate_values.value_counts())"
   ]
  },
  {
   "cell_type": "code",
   "execution_count": 19,
   "metadata": {},
   "outputs": [],
   "source": [
    "dfMergedFullNoDuplicates = dfMergedFull.drop_duplicates(subset=['uuid'])"
   ]
  },
  {
   "cell_type": "code",
   "execution_count": 20,
   "metadata": {},
   "outputs": [
    {
     "data": {
      "text/plain": [
       "(6098, 31)"
      ]
     },
     "execution_count": 20,
     "metadata": {},
     "output_type": "execute_result"
    }
   ],
   "source": [
    "dfMergedFullNoDuplicates.shape"
   ]
  },
  {
   "cell_type": "code",
   "execution_count": 21,
   "metadata": {},
   "outputs": [],
   "source": [
    "from skmultilearn.model_selection import iterative_train_test_split"
   ]
  },
  {
   "cell_type": "code",
   "execution_count": 22,
   "metadata": {},
   "outputs": [
    {
     "data": {
      "text/html": [
       "<div>\n",
       "<style scoped>\n",
       "    .dataframe tbody tr th:only-of-type {\n",
       "        vertical-align: middle;\n",
       "    }\n",
       "\n",
       "    .dataframe tbody tr th {\n",
       "        vertical-align: top;\n",
       "    }\n",
       "\n",
       "    .dataframe thead th {\n",
       "        text-align: right;\n",
       "    }\n",
       "</style>\n",
       "<table border=\"1\" class=\"dataframe\">\n",
       "  <thead>\n",
       "    <tr style=\"text-align: right;\">\n",
       "      <th></th>\n",
       "      <th>img_path</th>\n",
       "      <th>uuid</th>\n",
       "      <th>study_id</th>\n",
       "      <th>fetal_presentation_str</th>\n",
       "      <th>ga_boe</th>\n",
       "      <th>ga_expert</th>\n",
       "      <th>famli_edd_source</th>\n",
       "      <th>famli_edd_source_detail</th>\n",
       "      <th>dvp_crf</th>\n",
       "      <th>fetal_presentation</th>\n",
       "      <th>...</th>\n",
       "      <th>score</th>\n",
       "      <th>pred</th>\n",
       "      <th>File</th>\n",
       "      <th>No structures visible</th>\n",
       "      <th>Head Visible</th>\n",
       "      <th>Abdomen Visible</th>\n",
       "      <th>Femur Visible</th>\n",
       "      <th>Amniotic fluid visible</th>\n",
       "      <th>Placenta visible</th>\n",
       "      <th>Fetus or CRL visible</th>\n",
       "    </tr>\n",
       "  </thead>\n",
       "  <tbody>\n",
       "    <tr>\n",
       "      <th>0</th>\n",
       "      <td>extract_frames_blind_sweeps/dataset_C1_cines_m...</td>\n",
       "      <td>7a62a657-02de-47eb-ac49-4072f56da2f3</td>\n",
       "      <td>FAM-202-2430-1</td>\n",
       "      <td>Variable</td>\n",
       "      <td>67.167525</td>\n",
       "      <td>67.167525</td>\n",
       "      <td>ZAM-AnchorInTrim1</td>\n",
       "      <td>IG_CRL</td>\n",
       "      <td>4.0</td>\n",
       "      <td>4.0</td>\n",
       "      <td>...</td>\n",
       "      <td>1.053671e-07</td>\n",
       "      <td>142.69398</td>\n",
       "      <td>Groups/FAMLI/Shared/C1_ML_Analysis/extract_fra...</td>\n",
       "      <td>1</td>\n",
       "      <td>0</td>\n",
       "      <td>0</td>\n",
       "      <td>0</td>\n",
       "      <td>0</td>\n",
       "      <td>0</td>\n",
       "      <td>0</td>\n",
       "    </tr>\n",
       "    <tr>\n",
       "      <th>1</th>\n",
       "      <td>extract_frames_blind_sweeps/dataset_C1_cines_m...</td>\n",
       "      <td>d339a52a-007a-4a7e-b785-dfc473b0877a</td>\n",
       "      <td>FAM-202-2339-1</td>\n",
       "      <td>Transverse</td>\n",
       "      <td>120.840302</td>\n",
       "      <td>120.840302</td>\n",
       "      <td>ZAM-AnchorInTrim2</td>\n",
       "      <td>IG_HCFL</td>\n",
       "      <td>5.0</td>\n",
       "      <td>3.0</td>\n",
       "      <td>...</td>\n",
       "      <td>9.751744e-01</td>\n",
       "      <td>122.76802</td>\n",
       "      <td>Groups/FAMLI/Shared/C1_ML_Analysis/extract_fra...</td>\n",
       "      <td>0</td>\n",
       "      <td>1</td>\n",
       "      <td>0</td>\n",
       "      <td>0</td>\n",
       "      <td>1</td>\n",
       "      <td>1</td>\n",
       "      <td>1</td>\n",
       "    </tr>\n",
       "    <tr>\n",
       "      <th>2</th>\n",
       "      <td>extract_frames_blind_sweeps/dataset_C1_cines_m...</td>\n",
       "      <td>9b18e40a-86c4-45db-93b4-283beeaf64f4</td>\n",
       "      <td>FAM-202-1039-1</td>\n",
       "      <td>Cephalic</td>\n",
       "      <td>236.516779</td>\n",
       "      <td>236.516779</td>\n",
       "      <td>ZAM-AnchorInTrim3</td>\n",
       "      <td>IG_HCFL</td>\n",
       "      <td>4.0</td>\n",
       "      <td>1.0</td>\n",
       "      <td>...</td>\n",
       "      <td>7.406517e-04</td>\n",
       "      <td>255.12209</td>\n",
       "      <td>Groups/FAMLI/Shared/C1_ML_Analysis/extract_fra...</td>\n",
       "      <td>0</td>\n",
       "      <td>1</td>\n",
       "      <td>0</td>\n",
       "      <td>0</td>\n",
       "      <td>1</td>\n",
       "      <td>0</td>\n",
       "      <td>1</td>\n",
       "    </tr>\n",
       "    <tr>\n",
       "      <th>3</th>\n",
       "      <td>extract_frames_blind_sweeps/dataset_C1_cines_m...</td>\n",
       "      <td>c7fb026e-fdd7-4ab7-897f-727680444cbe</td>\n",
       "      <td>UNC-0554-5</td>\n",
       "      <td>Breech</td>\n",
       "      <td>197.000000</td>\n",
       "      <td>205.305842</td>\n",
       "      <td>UNC EPIC</td>\n",
       "      <td>LAST MENSTRUAL PERIOD</td>\n",
       "      <td>6.0</td>\n",
       "      <td>2.0</td>\n",
       "      <td>...</td>\n",
       "      <td>1.096368e-07</td>\n",
       "      <td>109.49991</td>\n",
       "      <td>Groups/FAMLI/Shared/C1_ML_Analysis/extract_fra...</td>\n",
       "      <td>1</td>\n",
       "      <td>0</td>\n",
       "      <td>0</td>\n",
       "      <td>0</td>\n",
       "      <td>0</td>\n",
       "      <td>0</td>\n",
       "      <td>0</td>\n",
       "    </tr>\n",
       "    <tr>\n",
       "      <th>4</th>\n",
       "      <td>extract_frames_blind_sweeps/dataset_C1_cines_m...</td>\n",
       "      <td>4f9d6380-25e0-473b-9c2b-5d031faf7174</td>\n",
       "      <td>UNC-0079-1</td>\n",
       "      <td>Cephalic</td>\n",
       "      <td>160.000000</td>\n",
       "      <td>0.000000</td>\n",
       "      <td>UNC EPIC</td>\n",
       "      <td>LAST MENSTRUAL PERIOD</td>\n",
       "      <td>8.0</td>\n",
       "      <td>1.0</td>\n",
       "      <td>...</td>\n",
       "      <td>9.647107e-01</td>\n",
       "      <td>159.43448</td>\n",
       "      <td>Groups/FAMLI/Shared/C1_ML_Analysis/extract_fra...</td>\n",
       "      <td>0</td>\n",
       "      <td>1</td>\n",
       "      <td>0</td>\n",
       "      <td>0</td>\n",
       "      <td>1</td>\n",
       "      <td>0</td>\n",
       "      <td>1</td>\n",
       "    </tr>\n",
       "  </tbody>\n",
       "</table>\n",
       "<p>5 rows × 31 columns</p>\n",
       "</div>"
      ],
      "text/plain": [
       "                                            img_path  \\\n",
       "0  extract_frames_blind_sweeps/dataset_C1_cines_m...   \n",
       "1  extract_frames_blind_sweeps/dataset_C1_cines_m...   \n",
       "2  extract_frames_blind_sweeps/dataset_C1_cines_m...   \n",
       "3  extract_frames_blind_sweeps/dataset_C1_cines_m...   \n",
       "4  extract_frames_blind_sweeps/dataset_C1_cines_m...   \n",
       "\n",
       "                                   uuid        study_id  \\\n",
       "0  7a62a657-02de-47eb-ac49-4072f56da2f3  FAM-202-2430-1   \n",
       "1  d339a52a-007a-4a7e-b785-dfc473b0877a  FAM-202-2339-1   \n",
       "2  9b18e40a-86c4-45db-93b4-283beeaf64f4  FAM-202-1039-1   \n",
       "3  c7fb026e-fdd7-4ab7-897f-727680444cbe      UNC-0554-5   \n",
       "4  4f9d6380-25e0-473b-9c2b-5d031faf7174      UNC-0079-1   \n",
       "\n",
       "  fetal_presentation_str      ga_boe   ga_expert   famli_edd_source  \\\n",
       "0               Variable   67.167525   67.167525  ZAM-AnchorInTrim1   \n",
       "1             Transverse  120.840302  120.840302  ZAM-AnchorInTrim2   \n",
       "2               Cephalic  236.516779  236.516779  ZAM-AnchorInTrim3   \n",
       "3                 Breech  197.000000  205.305842           UNC EPIC   \n",
       "4               Cephalic  160.000000    0.000000           UNC EPIC   \n",
       "\n",
       "  famli_edd_source_detail  dvp_crf  fetal_presentation  ...         score  \\\n",
       "0                  IG_CRL      4.0                 4.0  ...  1.053671e-07   \n",
       "1                 IG_HCFL      5.0                 3.0  ...  9.751744e-01   \n",
       "2                 IG_HCFL      4.0                 1.0  ...  7.406517e-04   \n",
       "3   LAST MENSTRUAL PERIOD      6.0                 2.0  ...  1.096368e-07   \n",
       "4   LAST MENSTRUAL PERIOD      8.0                 1.0  ...  9.647107e-01   \n",
       "\n",
       "        pred                                               File  \\\n",
       "0  142.69398  Groups/FAMLI/Shared/C1_ML_Analysis/extract_fra...   \n",
       "1  122.76802  Groups/FAMLI/Shared/C1_ML_Analysis/extract_fra...   \n",
       "2  255.12209  Groups/FAMLI/Shared/C1_ML_Analysis/extract_fra...   \n",
       "3  109.49991  Groups/FAMLI/Shared/C1_ML_Analysis/extract_fra...   \n",
       "4  159.43448  Groups/FAMLI/Shared/C1_ML_Analysis/extract_fra...   \n",
       "\n",
       "  No structures visible  Head Visible  Abdomen Visible Femur Visible  \\\n",
       "0                     1             0                0             0   \n",
       "1                     0             1                0             0   \n",
       "2                     0             1                0             0   \n",
       "3                     1             0                0             0   \n",
       "4                     0             1                0             0   \n",
       "\n",
       "  Amniotic fluid visible Placenta visible Fetus or CRL visible  \n",
       "0                      0                0                    0  \n",
       "1                      1                1                    1  \n",
       "2                      1                0                    1  \n",
       "3                      0                0                    0  \n",
       "4                      1                0                    1  \n",
       "\n",
       "[5 rows x 31 columns]"
      ]
     },
     "execution_count": 22,
     "metadata": {},
     "output_type": "execute_result"
    }
   ],
   "source": [
    "dfMergedFullNoDuplicates.head()"
   ]
  },
  {
   "cell_type": "code",
   "execution_count": 23,
   "metadata": {},
   "outputs": [],
   "source": [
    "dfMergedFull1 = dfMergedFullNoDuplicates.reset_index(inplace=True)\n",
    "\n"
   ]
  },
  {
   "cell_type": "code",
   "execution_count": 24,
   "metadata": {},
   "outputs": [
    {
     "data": {
      "text/html": [
       "<div>\n",
       "<style scoped>\n",
       "    .dataframe tbody tr th:only-of-type {\n",
       "        vertical-align: middle;\n",
       "    }\n",
       "\n",
       "    .dataframe tbody tr th {\n",
       "        vertical-align: top;\n",
       "    }\n",
       "\n",
       "    .dataframe thead th {\n",
       "        text-align: right;\n",
       "    }\n",
       "</style>\n",
       "<table border=\"1\" class=\"dataframe\">\n",
       "  <thead>\n",
       "    <tr style=\"text-align: right;\">\n",
       "      <th></th>\n",
       "      <th>index</th>\n",
       "      <th>img_path</th>\n",
       "      <th>uuid</th>\n",
       "      <th>study_id</th>\n",
       "      <th>fetal_presentation_str</th>\n",
       "      <th>ga_boe</th>\n",
       "      <th>ga_expert</th>\n",
       "      <th>famli_edd_source</th>\n",
       "      <th>famli_edd_source_detail</th>\n",
       "      <th>dvp_crf</th>\n",
       "      <th>...</th>\n",
       "      <th>score</th>\n",
       "      <th>pred</th>\n",
       "      <th>File</th>\n",
       "      <th>No structures visible</th>\n",
       "      <th>Head Visible</th>\n",
       "      <th>Abdomen Visible</th>\n",
       "      <th>Femur Visible</th>\n",
       "      <th>Amniotic fluid visible</th>\n",
       "      <th>Placenta visible</th>\n",
       "      <th>Fetus or CRL visible</th>\n",
       "    </tr>\n",
       "  </thead>\n",
       "  <tbody>\n",
       "    <tr>\n",
       "      <th>0</th>\n",
       "      <td>0</td>\n",
       "      <td>extract_frames_blind_sweeps/dataset_C1_cines_m...</td>\n",
       "      <td>7a62a657-02de-47eb-ac49-4072f56da2f3</td>\n",
       "      <td>FAM-202-2430-1</td>\n",
       "      <td>Variable</td>\n",
       "      <td>67.167525</td>\n",
       "      <td>67.167525</td>\n",
       "      <td>ZAM-AnchorInTrim1</td>\n",
       "      <td>IG_CRL</td>\n",
       "      <td>4.0</td>\n",
       "      <td>...</td>\n",
       "      <td>1.053671e-07</td>\n",
       "      <td>142.69398</td>\n",
       "      <td>Groups/FAMLI/Shared/C1_ML_Analysis/extract_fra...</td>\n",
       "      <td>1</td>\n",
       "      <td>0</td>\n",
       "      <td>0</td>\n",
       "      <td>0</td>\n",
       "      <td>0</td>\n",
       "      <td>0</td>\n",
       "      <td>0</td>\n",
       "    </tr>\n",
       "    <tr>\n",
       "      <th>1</th>\n",
       "      <td>1</td>\n",
       "      <td>extract_frames_blind_sweeps/dataset_C1_cines_m...</td>\n",
       "      <td>d339a52a-007a-4a7e-b785-dfc473b0877a</td>\n",
       "      <td>FAM-202-2339-1</td>\n",
       "      <td>Transverse</td>\n",
       "      <td>120.840302</td>\n",
       "      <td>120.840302</td>\n",
       "      <td>ZAM-AnchorInTrim2</td>\n",
       "      <td>IG_HCFL</td>\n",
       "      <td>5.0</td>\n",
       "      <td>...</td>\n",
       "      <td>9.751744e-01</td>\n",
       "      <td>122.76802</td>\n",
       "      <td>Groups/FAMLI/Shared/C1_ML_Analysis/extract_fra...</td>\n",
       "      <td>0</td>\n",
       "      <td>1</td>\n",
       "      <td>0</td>\n",
       "      <td>0</td>\n",
       "      <td>1</td>\n",
       "      <td>1</td>\n",
       "      <td>1</td>\n",
       "    </tr>\n",
       "    <tr>\n",
       "      <th>2</th>\n",
       "      <td>2</td>\n",
       "      <td>extract_frames_blind_sweeps/dataset_C1_cines_m...</td>\n",
       "      <td>9b18e40a-86c4-45db-93b4-283beeaf64f4</td>\n",
       "      <td>FAM-202-1039-1</td>\n",
       "      <td>Cephalic</td>\n",
       "      <td>236.516779</td>\n",
       "      <td>236.516779</td>\n",
       "      <td>ZAM-AnchorInTrim3</td>\n",
       "      <td>IG_HCFL</td>\n",
       "      <td>4.0</td>\n",
       "      <td>...</td>\n",
       "      <td>7.406517e-04</td>\n",
       "      <td>255.12209</td>\n",
       "      <td>Groups/FAMLI/Shared/C1_ML_Analysis/extract_fra...</td>\n",
       "      <td>0</td>\n",
       "      <td>1</td>\n",
       "      <td>0</td>\n",
       "      <td>0</td>\n",
       "      <td>1</td>\n",
       "      <td>0</td>\n",
       "      <td>1</td>\n",
       "    </tr>\n",
       "    <tr>\n",
       "      <th>3</th>\n",
       "      <td>3</td>\n",
       "      <td>extract_frames_blind_sweeps/dataset_C1_cines_m...</td>\n",
       "      <td>c7fb026e-fdd7-4ab7-897f-727680444cbe</td>\n",
       "      <td>UNC-0554-5</td>\n",
       "      <td>Breech</td>\n",
       "      <td>197.000000</td>\n",
       "      <td>205.305842</td>\n",
       "      <td>UNC EPIC</td>\n",
       "      <td>LAST MENSTRUAL PERIOD</td>\n",
       "      <td>6.0</td>\n",
       "      <td>...</td>\n",
       "      <td>1.096368e-07</td>\n",
       "      <td>109.49991</td>\n",
       "      <td>Groups/FAMLI/Shared/C1_ML_Analysis/extract_fra...</td>\n",
       "      <td>1</td>\n",
       "      <td>0</td>\n",
       "      <td>0</td>\n",
       "      <td>0</td>\n",
       "      <td>0</td>\n",
       "      <td>0</td>\n",
       "      <td>0</td>\n",
       "    </tr>\n",
       "    <tr>\n",
       "      <th>4</th>\n",
       "      <td>4</td>\n",
       "      <td>extract_frames_blind_sweeps/dataset_C1_cines_m...</td>\n",
       "      <td>4f9d6380-25e0-473b-9c2b-5d031faf7174</td>\n",
       "      <td>UNC-0079-1</td>\n",
       "      <td>Cephalic</td>\n",
       "      <td>160.000000</td>\n",
       "      <td>0.000000</td>\n",
       "      <td>UNC EPIC</td>\n",
       "      <td>LAST MENSTRUAL PERIOD</td>\n",
       "      <td>8.0</td>\n",
       "      <td>...</td>\n",
       "      <td>9.647107e-01</td>\n",
       "      <td>159.43448</td>\n",
       "      <td>Groups/FAMLI/Shared/C1_ML_Analysis/extract_fra...</td>\n",
       "      <td>0</td>\n",
       "      <td>1</td>\n",
       "      <td>0</td>\n",
       "      <td>0</td>\n",
       "      <td>1</td>\n",
       "      <td>0</td>\n",
       "      <td>1</td>\n",
       "    </tr>\n",
       "  </tbody>\n",
       "</table>\n",
       "<p>5 rows × 32 columns</p>\n",
       "</div>"
      ],
      "text/plain": [
       "   index                                           img_path  \\\n",
       "0      0  extract_frames_blind_sweeps/dataset_C1_cines_m...   \n",
       "1      1  extract_frames_blind_sweeps/dataset_C1_cines_m...   \n",
       "2      2  extract_frames_blind_sweeps/dataset_C1_cines_m...   \n",
       "3      3  extract_frames_blind_sweeps/dataset_C1_cines_m...   \n",
       "4      4  extract_frames_blind_sweeps/dataset_C1_cines_m...   \n",
       "\n",
       "                                   uuid        study_id  \\\n",
       "0  7a62a657-02de-47eb-ac49-4072f56da2f3  FAM-202-2430-1   \n",
       "1  d339a52a-007a-4a7e-b785-dfc473b0877a  FAM-202-2339-1   \n",
       "2  9b18e40a-86c4-45db-93b4-283beeaf64f4  FAM-202-1039-1   \n",
       "3  c7fb026e-fdd7-4ab7-897f-727680444cbe      UNC-0554-5   \n",
       "4  4f9d6380-25e0-473b-9c2b-5d031faf7174      UNC-0079-1   \n",
       "\n",
       "  fetal_presentation_str      ga_boe   ga_expert   famli_edd_source  \\\n",
       "0               Variable   67.167525   67.167525  ZAM-AnchorInTrim1   \n",
       "1             Transverse  120.840302  120.840302  ZAM-AnchorInTrim2   \n",
       "2               Cephalic  236.516779  236.516779  ZAM-AnchorInTrim3   \n",
       "3                 Breech  197.000000  205.305842           UNC EPIC   \n",
       "4               Cephalic  160.000000    0.000000           UNC EPIC   \n",
       "\n",
       "  famli_edd_source_detail  dvp_crf  ...         score       pred  \\\n",
       "0                  IG_CRL      4.0  ...  1.053671e-07  142.69398   \n",
       "1                 IG_HCFL      5.0  ...  9.751744e-01  122.76802   \n",
       "2                 IG_HCFL      4.0  ...  7.406517e-04  255.12209   \n",
       "3   LAST MENSTRUAL PERIOD      6.0  ...  1.096368e-07  109.49991   \n",
       "4   LAST MENSTRUAL PERIOD      8.0  ...  9.647107e-01  159.43448   \n",
       "\n",
       "                                                File No structures visible  \\\n",
       "0  Groups/FAMLI/Shared/C1_ML_Analysis/extract_fra...                     1   \n",
       "1  Groups/FAMLI/Shared/C1_ML_Analysis/extract_fra...                     0   \n",
       "2  Groups/FAMLI/Shared/C1_ML_Analysis/extract_fra...                     0   \n",
       "3  Groups/FAMLI/Shared/C1_ML_Analysis/extract_fra...                     1   \n",
       "4  Groups/FAMLI/Shared/C1_ML_Analysis/extract_fra...                     0   \n",
       "\n",
       "  Head Visible  Abdomen Visible  Femur Visible Amniotic fluid visible  \\\n",
       "0            0                0              0                      0   \n",
       "1            1                0              0                      1   \n",
       "2            1                0              0                      1   \n",
       "3            0                0              0                      0   \n",
       "4            1                0              0                      1   \n",
       "\n",
       "  Placenta visible Fetus or CRL visible  \n",
       "0                0                    0  \n",
       "1                1                    1  \n",
       "2                0                    1  \n",
       "3                0                    0  \n",
       "4                0                    1  \n",
       "\n",
       "[5 rows x 32 columns]"
      ]
     },
     "execution_count": 24,
     "metadata": {},
     "output_type": "execute_result"
    }
   ],
   "source": [
    "dfMergedFullNoDuplicates.head()"
   ]
  },
  {
   "cell_type": "code",
   "execution_count": 25,
   "metadata": {},
   "outputs": [],
   "source": [
    "dfMergedFullNoDuplicates = dfMergedFullNoDuplicates.drop(columns=[\"index\"], axis=1)"
   ]
  },
  {
   "cell_type": "code",
   "execution_count": 26,
   "metadata": {},
   "outputs": [
    {
     "data": {
      "text/html": [
       "<div>\n",
       "<style scoped>\n",
       "    .dataframe tbody tr th:only-of-type {\n",
       "        vertical-align: middle;\n",
       "    }\n",
       "\n",
       "    .dataframe tbody tr th {\n",
       "        vertical-align: top;\n",
       "    }\n",
       "\n",
       "    .dataframe thead th {\n",
       "        text-align: right;\n",
       "    }\n",
       "</style>\n",
       "<table border=\"1\" class=\"dataframe\">\n",
       "  <thead>\n",
       "    <tr style=\"text-align: right;\">\n",
       "      <th></th>\n",
       "      <th>img_path</th>\n",
       "      <th>uuid</th>\n",
       "      <th>study_id</th>\n",
       "      <th>fetal_presentation_str</th>\n",
       "      <th>ga_boe</th>\n",
       "      <th>ga_expert</th>\n",
       "      <th>famli_edd_source</th>\n",
       "      <th>famli_edd_source_detail</th>\n",
       "      <th>dvp_crf</th>\n",
       "      <th>fetal_presentation</th>\n",
       "      <th>...</th>\n",
       "      <th>score</th>\n",
       "      <th>pred</th>\n",
       "      <th>File</th>\n",
       "      <th>No structures visible</th>\n",
       "      <th>Head Visible</th>\n",
       "      <th>Abdomen Visible</th>\n",
       "      <th>Femur Visible</th>\n",
       "      <th>Amniotic fluid visible</th>\n",
       "      <th>Placenta visible</th>\n",
       "      <th>Fetus or CRL visible</th>\n",
       "    </tr>\n",
       "  </thead>\n",
       "  <tbody>\n",
       "    <tr>\n",
       "      <th>6093</th>\n",
       "      <td>extract_frames_blind_sweeps/dataset_C1_cines_m...</td>\n",
       "      <td>c710f902-6399-46d9-ace4-7867629567aa</td>\n",
       "      <td>FAM-025-1123-1</td>\n",
       "      <td>Cephalic</td>\n",
       "      <td>137.891208</td>\n",
       "      <td>137.891208</td>\n",
       "      <td>ZAM-AnchorInTrim2</td>\n",
       "      <td>IG_HCFL</td>\n",
       "      <td>5.0</td>\n",
       "      <td>1.0</td>\n",
       "      <td>...</td>\n",
       "      <td>0.746454</td>\n",
       "      <td>134.21468</td>\n",
       "      <td>Groups\\FAMLI\\Shared\\C1_ML_Analysis\\extract_fra...</td>\n",
       "      <td>0</td>\n",
       "      <td>0</td>\n",
       "      <td>1</td>\n",
       "      <td>0</td>\n",
       "      <td>1</td>\n",
       "      <td>1</td>\n",
       "      <td>0</td>\n",
       "    </tr>\n",
       "    <tr>\n",
       "      <th>6094</th>\n",
       "      <td>extract_frames_blind_sweeps/dataset_C1_cines_m...</td>\n",
       "      <td>1d94d3f2-6f44-4b64-beae-59f4937da43b</td>\n",
       "      <td>VIL-0238-4</td>\n",
       "      <td>Breech</td>\n",
       "      <td>134.000000</td>\n",
       "      <td>137.764452</td>\n",
       "      <td>UNC EPIC</td>\n",
       "      <td>ULTRASOUND</td>\n",
       "      <td>5.0</td>\n",
       "      <td>2.0</td>\n",
       "      <td>...</td>\n",
       "      <td>0.999953</td>\n",
       "      <td>144.19089</td>\n",
       "      <td>Groups\\FAMLI\\Shared\\C1_ML_Analysis\\extract_fra...</td>\n",
       "      <td>0</td>\n",
       "      <td>1</td>\n",
       "      <td>0</td>\n",
       "      <td>0</td>\n",
       "      <td>1</td>\n",
       "      <td>0</td>\n",
       "      <td>0</td>\n",
       "    </tr>\n",
       "    <tr>\n",
       "      <th>6095</th>\n",
       "      <td>extract_frames_blind_sweeps/dataset_C1_cines_m...</td>\n",
       "      <td>283e1aea-9e1b-42d2-9cba-5122389d3878</td>\n",
       "      <td>FAM-025-1749-1</td>\n",
       "      <td>Cephalic</td>\n",
       "      <td>138.465454</td>\n",
       "      <td>138.465454</td>\n",
       "      <td>ZAM-AnchorInTrim2</td>\n",
       "      <td>IG_HCFL</td>\n",
       "      <td>9.0</td>\n",
       "      <td>1.0</td>\n",
       "      <td>...</td>\n",
       "      <td>0.999658</td>\n",
       "      <td>132.22163</td>\n",
       "      <td>Groups\\FAMLI\\Shared\\C1_ML_Analysis\\extract_fra...</td>\n",
       "      <td>0</td>\n",
       "      <td>1</td>\n",
       "      <td>0</td>\n",
       "      <td>0</td>\n",
       "      <td>1</td>\n",
       "      <td>1</td>\n",
       "      <td>0</td>\n",
       "    </tr>\n",
       "    <tr>\n",
       "      <th>6096</th>\n",
       "      <td>extract_frames_blind_sweeps/dataset_C1_cines_m...</td>\n",
       "      <td>616637e4-131e-4931-bdd5-e66652fbd174</td>\n",
       "      <td>FAM-202-1437-1</td>\n",
       "      <td>Cephalic</td>\n",
       "      <td>159.044588</td>\n",
       "      <td>159.044588</td>\n",
       "      <td>ZAM-AnchorInTrim2</td>\n",
       "      <td>IG_HCFL</td>\n",
       "      <td>6.0</td>\n",
       "      <td>1.0</td>\n",
       "      <td>...</td>\n",
       "      <td>0.650407</td>\n",
       "      <td>159.48991</td>\n",
       "      <td>Groups\\FAMLI\\Shared\\C1_ML_Analysis\\extract_fra...</td>\n",
       "      <td>0</td>\n",
       "      <td>0</td>\n",
       "      <td>1</td>\n",
       "      <td>0</td>\n",
       "      <td>1</td>\n",
       "      <td>1</td>\n",
       "      <td>0</td>\n",
       "    </tr>\n",
       "    <tr>\n",
       "      <th>6097</th>\n",
       "      <td>extract_frames_blind_sweeps/dataset_C1_cines_m...</td>\n",
       "      <td>4ab5f2a1-df4c-45de-9480-89c87c486b7d</td>\n",
       "      <td>VIL-0478-1</td>\n",
       "      <td>Transverse</td>\n",
       "      <td>115.000000</td>\n",
       "      <td>116.774546</td>\n",
       "      <td>UNC EPIC</td>\n",
       "      <td>ULTRASOUND</td>\n",
       "      <td>7.0</td>\n",
       "      <td>3.0</td>\n",
       "      <td>...</td>\n",
       "      <td>0.862165</td>\n",
       "      <td>112.05151</td>\n",
       "      <td>Groups\\FAMLI\\Shared\\C1_ML_Analysis\\extract_fra...</td>\n",
       "      <td>0</td>\n",
       "      <td>1</td>\n",
       "      <td>0</td>\n",
       "      <td>0</td>\n",
       "      <td>1</td>\n",
       "      <td>0</td>\n",
       "      <td>0</td>\n",
       "    </tr>\n",
       "  </tbody>\n",
       "</table>\n",
       "<p>5 rows × 31 columns</p>\n",
       "</div>"
      ],
      "text/plain": [
       "                                               img_path  \\\n",
       "6093  extract_frames_blind_sweeps/dataset_C1_cines_m...   \n",
       "6094  extract_frames_blind_sweeps/dataset_C1_cines_m...   \n",
       "6095  extract_frames_blind_sweeps/dataset_C1_cines_m...   \n",
       "6096  extract_frames_blind_sweeps/dataset_C1_cines_m...   \n",
       "6097  extract_frames_blind_sweeps/dataset_C1_cines_m...   \n",
       "\n",
       "                                      uuid        study_id  \\\n",
       "6093  c710f902-6399-46d9-ace4-7867629567aa  FAM-025-1123-1   \n",
       "6094  1d94d3f2-6f44-4b64-beae-59f4937da43b      VIL-0238-4   \n",
       "6095  283e1aea-9e1b-42d2-9cba-5122389d3878  FAM-025-1749-1   \n",
       "6096  616637e4-131e-4931-bdd5-e66652fbd174  FAM-202-1437-1   \n",
       "6097  4ab5f2a1-df4c-45de-9480-89c87c486b7d      VIL-0478-1   \n",
       "\n",
       "     fetal_presentation_str      ga_boe   ga_expert   famli_edd_source  \\\n",
       "6093               Cephalic  137.891208  137.891208  ZAM-AnchorInTrim2   \n",
       "6094                 Breech  134.000000  137.764452           UNC EPIC   \n",
       "6095               Cephalic  138.465454  138.465454  ZAM-AnchorInTrim2   \n",
       "6096               Cephalic  159.044588  159.044588  ZAM-AnchorInTrim2   \n",
       "6097             Transverse  115.000000  116.774546           UNC EPIC   \n",
       "\n",
       "     famli_edd_source_detail  dvp_crf  fetal_presentation  ...     score  \\\n",
       "6093                 IG_HCFL      5.0                 1.0  ...  0.746454   \n",
       "6094              ULTRASOUND      5.0                 2.0  ...  0.999953   \n",
       "6095                 IG_HCFL      9.0                 1.0  ...  0.999658   \n",
       "6096                 IG_HCFL      6.0                 1.0  ...  0.650407   \n",
       "6097              ULTRASOUND      7.0                 3.0  ...  0.862165   \n",
       "\n",
       "           pred                                               File  \\\n",
       "6093  134.21468  Groups\\FAMLI\\Shared\\C1_ML_Analysis\\extract_fra...   \n",
       "6094  144.19089  Groups\\FAMLI\\Shared\\C1_ML_Analysis\\extract_fra...   \n",
       "6095  132.22163  Groups\\FAMLI\\Shared\\C1_ML_Analysis\\extract_fra...   \n",
       "6096  159.48991  Groups\\FAMLI\\Shared\\C1_ML_Analysis\\extract_fra...   \n",
       "6097  112.05151  Groups\\FAMLI\\Shared\\C1_ML_Analysis\\extract_fra...   \n",
       "\n",
       "     No structures visible  Head Visible  Abdomen Visible Femur Visible  \\\n",
       "6093                     0             0                1             0   \n",
       "6094                     0             1                0             0   \n",
       "6095                     0             1                0             0   \n",
       "6096                     0             0                1             0   \n",
       "6097                     0             1                0             0   \n",
       "\n",
       "     Amniotic fluid visible Placenta visible Fetus or CRL visible  \n",
       "6093                      1                1                    0  \n",
       "6094                      1                0                    0  \n",
       "6095                      1                1                    0  \n",
       "6096                      1                1                    0  \n",
       "6097                      1                0                    0  \n",
       "\n",
       "[5 rows x 31 columns]"
      ]
     },
     "execution_count": 26,
     "metadata": {},
     "output_type": "execute_result"
    }
   ],
   "source": [
    "dfMergedFullNoDuplicates.tail()"
   ]
  },
  {
   "cell_type": "code",
   "execution_count": 27,
   "metadata": {},
   "outputs": [
    {
     "name": "stdout",
     "output_type": "stream",
     "text": [
      "Head Visible\n",
      "0    3664\n",
      "1    2434\n",
      "Name: count, dtype: int64\n",
      "Abdomen Visible\n",
      "0    4826\n",
      "1    1272\n",
      "Name: count, dtype: int64\n",
      "Placenta visible\n",
      "0    3858\n",
      "1    2240\n",
      "Name: count, dtype: int64\n",
      "Femur Visible\n",
      "0    5743\n",
      "1     355\n",
      "Name: count, dtype: int64\n",
      "No structures visible\n",
      "0    5405\n",
      "1     693\n",
      "Name: count, dtype: int64\n",
      "Amniotic fluid visible\n",
      "1    4889\n",
      "0    1209\n",
      "Name: count, dtype: int64\n"
     ]
    }
   ],
   "source": [
    "print(dfMergedFullNoDuplicates[\"Head Visible\"].value_counts())\n",
    "print(dfMergedFullNoDuplicates[\"Abdomen Visible\"].value_counts())\n",
    "print(dfMergedFullNoDuplicates[\"Placenta visible\"].value_counts())\n",
    "print(dfMergedFullNoDuplicates[\"Femur Visible\"].value_counts())\n",
    "print(dfMergedFullNoDuplicates[\"No structures visible\"].value_counts())\n",
    "print(dfMergedFullNoDuplicates[\"Amniotic fluid visible\"].value_counts())"
   ]
  },
  {
   "cell_type": "code",
   "execution_count": 28,
   "metadata": {},
   "outputs": [],
   "source": [
    "dfMergedFullNoDuplicates1 = dfMergedFullNoDuplicates.drop(columns=[\"Amniotic fluid visible\", \"Fetus or CRL visible\"])"
   ]
  },
  {
   "cell_type": "code",
   "execution_count": 29,
   "metadata": {},
   "outputs": [],
   "source": [
    "femurAbdomenDf = pd.read_csv(\"/mnt/raid/home/ayrisbud/us-famli-pl/src/abdomenFemur.csv\")"
   ]
  },
  {
   "cell_type": "code",
   "execution_count": 30,
   "metadata": {},
   "outputs": [],
   "source": [
    "# finalMergedDf = pd.merge(dfMergedFullNoDuplicates1, femurAbdomenDf, on=\"uuid\", how='left')\n",
    "finalMergedDf = pd.concat([dfMergedFullNoDuplicates1, femurAbdomenDf], axis=0)"
   ]
  },
  {
   "cell_type": "code",
   "execution_count": 31,
   "metadata": {},
   "outputs": [],
   "source": [
    "# duplicate_values1 = finalMergedDf[finalMergedDf.duplicated(subset='uuid')]\n",
    "# # print(duplicate_values1.value_counts())\n",
    "# print(duplicate_values1)\n",
    "\n",
    "finalMergedDfNoDuplicates = finalMergedDf.drop_duplicates(subset=['uuid'])\n",
    "finalMergedDfNoDuplicates = finalMergedDfNoDuplicates.drop(columns=['frame_num'])\n"
   ]
  },
  {
   "cell_type": "code",
   "execution_count": 33,
   "metadata": {},
   "outputs": [
    {
     "name": "stdout",
     "output_type": "stream",
     "text": [
      "Index(['img_path', 'uuid', 'study_id', 'fetal_presentation_str', 'ga_boe',\n",
      "       'ga_expert', 'famli_edd_source', 'famli_edd_source_detail', 'dvp_crf',\n",
      "       'fetal_presentation', 'ga_absdiff', 'is_anchor', 'tag', 'pidscan',\n",
      "       'us_plac', 'us_previa', 'placenta_str', 'previa_str', 'Manufacturer',\n",
      "       'ManufacturerModelName', 'uuid_path_256', 'score', 'pred', 'File',\n",
      "       'No structures visible', 'Head Visible', 'Abdomen Visible',\n",
      "       'Femur Visible', 'Placenta visible'],\n",
      "      dtype='object')\n",
      "(9024, 29)\n"
     ]
    }
   ],
   "source": [
    "print(finalMergedDfNoDuplicates.columns)\n",
    "print(finalMergedDfNoDuplicates.shape)"
   ]
  },
  {
   "cell_type": "code",
   "execution_count": 34,
   "metadata": {},
   "outputs": [],
   "source": [
    "dfMergedFullX = finalMergedDfNoDuplicates.iloc[:, 0:-5].values\n",
    "dfMergedFullY = finalMergedDfNoDuplicates.iloc[:, -5:].values"
   ]
  },
  {
   "cell_type": "code",
   "execution_count": 35,
   "metadata": {},
   "outputs": [
    {
     "name": "stdout",
     "output_type": "stream",
     "text": [
      "<class 'numpy.ndarray'>\n",
      "(9024, 5)\n"
     ]
    }
   ],
   "source": [
    "print(type(dfMergedFullY))\n",
    "print(dfMergedFullY.shape)"
   ]
  },
  {
   "cell_type": "code",
   "execution_count": 36,
   "metadata": {},
   "outputs": [
    {
     "data": {
      "text/html": [
       "<div>\n",
       "<style scoped>\n",
       "    .dataframe tbody tr th:only-of-type {\n",
       "        vertical-align: middle;\n",
       "    }\n",
       "\n",
       "    .dataframe tbody tr th {\n",
       "        vertical-align: top;\n",
       "    }\n",
       "\n",
       "    .dataframe thead th {\n",
       "        text-align: right;\n",
       "    }\n",
       "</style>\n",
       "<table border=\"1\" class=\"dataframe\">\n",
       "  <thead>\n",
       "    <tr style=\"text-align: right;\">\n",
       "      <th></th>\n",
       "      <th>img_path</th>\n",
       "      <th>uuid</th>\n",
       "      <th>study_id</th>\n",
       "      <th>fetal_presentation_str</th>\n",
       "      <th>ga_boe</th>\n",
       "      <th>ga_expert</th>\n",
       "      <th>famli_edd_source</th>\n",
       "      <th>famli_edd_source_detail</th>\n",
       "      <th>dvp_crf</th>\n",
       "      <th>fetal_presentation</th>\n",
       "      <th>...</th>\n",
       "      <th>ManufacturerModelName</th>\n",
       "      <th>uuid_path_256</th>\n",
       "      <th>score</th>\n",
       "      <th>pred</th>\n",
       "      <th>File</th>\n",
       "      <th>No structures visible</th>\n",
       "      <th>Head Visible</th>\n",
       "      <th>Abdomen Visible</th>\n",
       "      <th>Femur Visible</th>\n",
       "      <th>Placenta visible</th>\n",
       "    </tr>\n",
       "  </thead>\n",
       "  <tbody>\n",
       "    <tr>\n",
       "      <th>2995</th>\n",
       "      <td>extract_frames_blind_sweeps/dataset_C1_cines_m...</td>\n",
       "      <td>157db2d9-1da7-4a71-8f9d-c017e3674135</td>\n",
       "      <td>FAM-202-1861-1</td>\n",
       "      <td>Cephalic</td>\n",
       "      <td>173.529306</td>\n",
       "      <td>173.529306</td>\n",
       "      <td>ZAM-AnchorInTrim2</td>\n",
       "      <td>IG_HCFL</td>\n",
       "      <td>5.0</td>\n",
       "      <td>1.0</td>\n",
       "      <td>...</td>\n",
       "      <td>Turbo</td>\n",
       "      <td>dataset_C1_cines_masked_resampled_256_spc075_u...</td>\n",
       "      <td>0.081351</td>\n",
       "      <td>172.99520</td>\n",
       "      <td>NaN</td>\n",
       "      <td>0</td>\n",
       "      <td>0</td>\n",
       "      <td>0</td>\n",
       "      <td>1</td>\n",
       "      <td>0</td>\n",
       "    </tr>\n",
       "    <tr>\n",
       "      <th>2996</th>\n",
       "      <td>extract_frames_blind_sweeps/dataset_C1_cines_m...</td>\n",
       "      <td>dfe4d887-21cc-44ec-b329-7aa59aa11de1</td>\n",
       "      <td>FAM-025-0558-3</td>\n",
       "      <td>Cephalic</td>\n",
       "      <td>255.115704</td>\n",
       "      <td>255.317601</td>\n",
       "      <td>ZAM-AnchorInTrim1</td>\n",
       "      <td>IG_CRL</td>\n",
       "      <td>5.0</td>\n",
       "      <td>1.0</td>\n",
       "      <td>...</td>\n",
       "      <td>Turbo</td>\n",
       "      <td>dataset_C1_cines_masked_resampled_256_spc075_u...</td>\n",
       "      <td>0.000966</td>\n",
       "      <td>264.65582</td>\n",
       "      <td>NaN</td>\n",
       "      <td>0</td>\n",
       "      <td>0</td>\n",
       "      <td>0</td>\n",
       "      <td>1</td>\n",
       "      <td>0</td>\n",
       "    </tr>\n",
       "    <tr>\n",
       "      <th>2997</th>\n",
       "      <td>extract_frames_blind_sweeps/dataset_C1_cines_m...</td>\n",
       "      <td>f96a2a59-1b65-4aa0-8236-f6abaeddaf29</td>\n",
       "      <td>FAM-202-0136-2</td>\n",
       "      <td>Cephalic</td>\n",
       "      <td>263.023468</td>\n",
       "      <td>NaN</td>\n",
       "      <td>ZAM-AnchorInTrim3</td>\n",
       "      <td>IG_HCFL</td>\n",
       "      <td>3.0</td>\n",
       "      <td>1.0</td>\n",
       "      <td>...</td>\n",
       "      <td>Voluson S</td>\n",
       "      <td>dataset_C1_cines_masked_resampled_256_spc075_u...</td>\n",
       "      <td>0.021443</td>\n",
       "      <td>247.24250</td>\n",
       "      <td>NaN</td>\n",
       "      <td>0</td>\n",
       "      <td>0</td>\n",
       "      <td>0</td>\n",
       "      <td>1</td>\n",
       "      <td>0</td>\n",
       "    </tr>\n",
       "    <tr>\n",
       "      <th>2998</th>\n",
       "      <td>extract_frames_blind_sweeps/dataset_C1_cines_m...</td>\n",
       "      <td>565c4449-3a59-4060-9d72-b447e53234c8</td>\n",
       "      <td>FAM-202-2110-1</td>\n",
       "      <td>Cephalic</td>\n",
       "      <td>143.986745</td>\n",
       "      <td>143.986745</td>\n",
       "      <td>ZAM-AnchorInTrim2</td>\n",
       "      <td>IG_HCFL</td>\n",
       "      <td>4.0</td>\n",
       "      <td>1.0</td>\n",
       "      <td>...</td>\n",
       "      <td>LOGIQe</td>\n",
       "      <td>dataset_C1_cines_masked_resampled_256_spc075_u...</td>\n",
       "      <td>0.088993</td>\n",
       "      <td>150.75090</td>\n",
       "      <td>NaN</td>\n",
       "      <td>0</td>\n",
       "      <td>0</td>\n",
       "      <td>0</td>\n",
       "      <td>1</td>\n",
       "      <td>0</td>\n",
       "    </tr>\n",
       "    <tr>\n",
       "      <th>2999</th>\n",
       "      <td>extract_frames_blind_sweeps/dataset_C1_cines_m...</td>\n",
       "      <td>7356e2de-46b4-4491-960b-bf6928617dea</td>\n",
       "      <td>FAM-025-0899-1</td>\n",
       "      <td>Cephalic</td>\n",
       "      <td>128.170238</td>\n",
       "      <td>128.170238</td>\n",
       "      <td>ZAM-AnchorInTrim2</td>\n",
       "      <td>IG_HCFL</td>\n",
       "      <td>4.0</td>\n",
       "      <td>1.0</td>\n",
       "      <td>...</td>\n",
       "      <td>Turbo</td>\n",
       "      <td>dataset_C1_cines_masked_resampled_256_spc075_u...</td>\n",
       "      <td>0.100813</td>\n",
       "      <td>129.62344</td>\n",
       "      <td>NaN</td>\n",
       "      <td>0</td>\n",
       "      <td>0</td>\n",
       "      <td>0</td>\n",
       "      <td>1</td>\n",
       "      <td>0</td>\n",
       "    </tr>\n",
       "  </tbody>\n",
       "</table>\n",
       "<p>5 rows × 29 columns</p>\n",
       "</div>"
      ],
      "text/plain": [
       "                                               img_path  \\\n",
       "2995  extract_frames_blind_sweeps/dataset_C1_cines_m...   \n",
       "2996  extract_frames_blind_sweeps/dataset_C1_cines_m...   \n",
       "2997  extract_frames_blind_sweeps/dataset_C1_cines_m...   \n",
       "2998  extract_frames_blind_sweeps/dataset_C1_cines_m...   \n",
       "2999  extract_frames_blind_sweeps/dataset_C1_cines_m...   \n",
       "\n",
       "                                      uuid        study_id  \\\n",
       "2995  157db2d9-1da7-4a71-8f9d-c017e3674135  FAM-202-1861-1   \n",
       "2996  dfe4d887-21cc-44ec-b329-7aa59aa11de1  FAM-025-0558-3   \n",
       "2997  f96a2a59-1b65-4aa0-8236-f6abaeddaf29  FAM-202-0136-2   \n",
       "2998  565c4449-3a59-4060-9d72-b447e53234c8  FAM-202-2110-1   \n",
       "2999  7356e2de-46b4-4491-960b-bf6928617dea  FAM-025-0899-1   \n",
       "\n",
       "     fetal_presentation_str      ga_boe   ga_expert   famli_edd_source  \\\n",
       "2995               Cephalic  173.529306  173.529306  ZAM-AnchorInTrim2   \n",
       "2996               Cephalic  255.115704  255.317601  ZAM-AnchorInTrim1   \n",
       "2997               Cephalic  263.023468         NaN  ZAM-AnchorInTrim3   \n",
       "2998               Cephalic  143.986745  143.986745  ZAM-AnchorInTrim2   \n",
       "2999               Cephalic  128.170238  128.170238  ZAM-AnchorInTrim2   \n",
       "\n",
       "     famli_edd_source_detail  dvp_crf  fetal_presentation  ...  \\\n",
       "2995                 IG_HCFL      5.0                 1.0  ...   \n",
       "2996                  IG_CRL      5.0                 1.0  ...   \n",
       "2997                 IG_HCFL      3.0                 1.0  ...   \n",
       "2998                 IG_HCFL      4.0                 1.0  ...   \n",
       "2999                 IG_HCFL      4.0                 1.0  ...   \n",
       "\n",
       "      ManufacturerModelName  \\\n",
       "2995                  Turbo   \n",
       "2996                  Turbo   \n",
       "2997              Voluson S   \n",
       "2998                 LOGIQe   \n",
       "2999                  Turbo   \n",
       "\n",
       "                                          uuid_path_256     score       pred  \\\n",
       "2995  dataset_C1_cines_masked_resampled_256_spc075_u...  0.081351  172.99520   \n",
       "2996  dataset_C1_cines_masked_resampled_256_spc075_u...  0.000966  264.65582   \n",
       "2997  dataset_C1_cines_masked_resampled_256_spc075_u...  0.021443  247.24250   \n",
       "2998  dataset_C1_cines_masked_resampled_256_spc075_u...  0.088993  150.75090   \n",
       "2999  dataset_C1_cines_masked_resampled_256_spc075_u...  0.100813  129.62344   \n",
       "\n",
       "      File  No structures visible Head Visible Abdomen Visible Femur Visible  \\\n",
       "2995   NaN                      0            0               0             1   \n",
       "2996   NaN                      0            0               0             1   \n",
       "2997   NaN                      0            0               0             1   \n",
       "2998   NaN                      0            0               0             1   \n",
       "2999   NaN                      0            0               0             1   \n",
       "\n",
       "     Placenta visible  \n",
       "2995                0  \n",
       "2996                0  \n",
       "2997                0  \n",
       "2998                0  \n",
       "2999                0  \n",
       "\n",
       "[5 rows x 29 columns]"
      ]
     },
     "execution_count": 36,
     "metadata": {},
     "output_type": "execute_result"
    }
   ],
   "source": [
    "finalMergedDfNoDuplicates.tail()\n"
   ]
  },
  {
   "cell_type": "code",
   "execution_count": 37,
   "metadata": {},
   "outputs": [
    {
     "data": {
      "text/plain": [
       "img_path                    object\n",
       "uuid                        object\n",
       "study_id                    object\n",
       "fetal_presentation_str      object\n",
       "ga_boe                     float64\n",
       "ga_expert                  float64\n",
       "famli_edd_source            object\n",
       "famli_edd_source_detail     object\n",
       "dvp_crf                    float64\n",
       "fetal_presentation         float64\n",
       "ga_absdiff                 float64\n",
       "is_anchor                    int64\n",
       "tag                         object\n",
       "pidscan                     object\n",
       "us_plac                    float64\n",
       "us_previa                  float64\n",
       "placenta_str                object\n",
       "previa_str                  object\n",
       "Manufacturer                object\n",
       "ManufacturerModelName       object\n",
       "uuid_path_256               object\n",
       "score                      float64\n",
       "pred                       float64\n",
       "File                        object\n",
       "No structures visible        int64\n",
       "Head Visible                 int64\n",
       "Abdomen Visible              int64\n",
       "Femur Visible                int64\n",
       "Placenta visible             int64\n",
       "dtype: object"
      ]
     },
     "execution_count": 37,
     "metadata": {},
     "output_type": "execute_result"
    }
   ],
   "source": [
    "finalMergedDfNoDuplicates.dtypes\n",
    "\n"
   ]
  },
  {
   "cell_type": "code",
   "execution_count": 38,
   "metadata": {},
   "outputs": [
    {
     "data": {
      "text/plain": [
       "img_path                    object\n",
       "uuid                        object\n",
       "study_id                    object\n",
       "fetal_presentation_str      object\n",
       "ga_boe                     float64\n",
       "ga_expert                  float64\n",
       "famli_edd_source            object\n",
       "famli_edd_source_detail     object\n",
       "dvp_crf                    float64\n",
       "fetal_presentation         float64\n",
       "ga_absdiff                 float64\n",
       "is_anchor                    int64\n",
       "tag                         object\n",
       "pidscan                     object\n",
       "us_plac                    float64\n",
       "us_previa                  float64\n",
       "placenta_str                object\n",
       "previa_str                  object\n",
       "Manufacturer                object\n",
       "ManufacturerModelName       object\n",
       "uuid_path_256               object\n",
       "score                      float64\n",
       "pred                       float64\n",
       "File                        object\n",
       "No structures visible        int64\n",
       "Head Visible                 int64\n",
       "Abdomen Visible              int64\n",
       "Femur Visible                int64\n",
       "Placenta visible             int64\n",
       "dtype: object"
      ]
     },
     "execution_count": 38,
     "metadata": {},
     "output_type": "execute_result"
    }
   ],
   "source": [
    "finalMergedDfNoDuplicates.dtypes"
   ]
  },
  {
   "cell_type": "code",
   "execution_count": 39,
   "metadata": {},
   "outputs": [],
   "source": [
    "myTrainDfX, myTrainDfY, myTestDfX, myTestDfY = iterative_train_test_split(X=dfMergedFullX, y=dfMergedFullY, test_size=0.2)"
   ]
  },
  {
   "cell_type": "code",
   "execution_count": 40,
   "metadata": {},
   "outputs": [],
   "source": [
    "myTrainDfX, myTrainDfY, myValDfX, myValDfY = iterative_train_test_split(X=myTrainDfX, y=myTrainDfY, test_size=0.2)"
   ]
  },
  {
   "cell_type": "code",
   "execution_count": 41,
   "metadata": {},
   "outputs": [
    {
     "name": "stdout",
     "output_type": "stream",
     "text": [
      "<class 'numpy.ndarray'>\n"
     ]
    }
   ],
   "source": [
    "print(type(myTrainDfY))"
   ]
  },
  {
   "cell_type": "code",
   "execution_count": 42,
   "metadata": {},
   "outputs": [],
   "source": [
    "myTrainDf = pd.concat([pd.DataFrame(myTrainDfX, columns=finalMergedDfNoDuplicates.columns[:-5]), pd.DataFrame(myTrainDfY, columns=finalMergedDfNoDuplicates.columns[-5:])], axis=1)\n",
    "myTestDf = pd.concat([pd.DataFrame(myTestDfX, columns=finalMergedDfNoDuplicates.columns[:-5]), pd.DataFrame(myTestDfY, columns=finalMergedDfNoDuplicates.columns[-5:])], axis=1)\n",
    "myValDf = pd.concat([pd.DataFrame(myValDfX, columns=finalMergedDfNoDuplicates.columns[:-5]), pd.DataFrame(myValDfY, columns=finalMergedDfNoDuplicates.columns[-5:])], axis=1)\n",
    "\n",
    "# myTestDf = pd.concat([myTestDfX, myTestDfY], axis=1)\n",
    "# myValDf = pd.concat([myValDfX, myValDfY], axis=1)"
   ]
  },
  {
   "cell_type": "code",
   "execution_count": 43,
   "metadata": {},
   "outputs": [
    {
     "name": "stdout",
     "output_type": "stream",
     "text": [
      "(5775, 29)\n",
      "(1805, 29)\n",
      "(1444, 29)\n"
     ]
    }
   ],
   "source": [
    "print(myTrainDf.shape)\n",
    "print(myTestDf.shape)\n",
    "print(myValDf.shape)"
   ]
  },
  {
   "cell_type": "code",
   "execution_count": 45,
   "metadata": {},
   "outputs": [
    {
     "name": "stdout",
     "output_type": "stream",
     "text": [
      "Head Visible\n",
      "0    4217\n",
      "1    1558\n",
      "Name: count, dtype: int64\n",
      "Abdomen Visible\n",
      "0    4342\n",
      "1    1433\n",
      "Name: count, dtype: int64\n",
      "Placenta visible\n",
      "0    4341\n",
      "1    1434\n",
      "Name: count, dtype: int64\n",
      "Femur Visible\n",
      "0    4294\n",
      "1    1481\n",
      "Name: count, dtype: int64\n",
      "No structures visible\n",
      "0    5332\n",
      "1     443\n",
      "Name: count, dtype: int64\n",
      "Head Visible\n",
      "0    1318\n",
      "1     487\n",
      "Name: count, dtype: int64\n",
      "Abdomen Visible\n",
      "0    1357\n",
      "1     448\n",
      "Name: count, dtype: int64\n",
      "Placenta visible\n",
      "0    1357\n",
      "1     448\n",
      "Name: count, dtype: int64\n",
      "Femur Visible\n",
      "0    1342\n",
      "1     463\n",
      "Name: count, dtype: int64\n",
      "No structures visible\n",
      "0    1666\n",
      "1     139\n",
      "Name: count, dtype: int64\n",
      "Head Visible\n",
      "0    1055\n",
      "1     389\n",
      "Name: count, dtype: int64\n",
      "Abdomen Visible\n",
      "0    1086\n",
      "1     358\n",
      "Name: count, dtype: int64\n",
      "Placenta visible\n",
      "0    1086\n",
      "1     358\n",
      "Name: count, dtype: int64\n",
      "Femur Visible\n",
      "0    1074\n",
      "1     370\n",
      "Name: count, dtype: int64\n",
      "No structures visible\n",
      "0    1333\n",
      "1     111\n",
      "Name: count, dtype: int64\n"
     ]
    }
   ],
   "source": [
    "print(myTrainDf[\"Head Visible\"].value_counts())\n",
    "print(myTrainDf[\"Abdomen Visible\"].value_counts())\n",
    "print(myTrainDf[\"Placenta visible\"].value_counts())\n",
    "print(myTrainDf[\"Femur Visible\"].value_counts())\n",
    "print(myTrainDf[\"No structures visible\"].value_counts())\n",
    "\n",
    "print(myTestDf[\"Head Visible\"].value_counts())\n",
    "print(myTestDf[\"Abdomen Visible\"].value_counts())\n",
    "print(myTestDf[\"Placenta visible\"].value_counts())\n",
    "print(myTestDf[\"Femur Visible\"].value_counts())\n",
    "print(myTestDf[\"No structures visible\"].value_counts())\n",
    "\n",
    "print(myValDf[\"Head Visible\"].value_counts())\n",
    "print(myValDf[\"Abdomen Visible\"].value_counts())\n",
    "print(myValDf[\"Placenta visible\"].value_counts())\n",
    "print(myValDf[\"Femur Visible\"].value_counts())\n",
    "print(myValDf[\"No structures visible\"].value_counts())\n"
   ]
  },
  {
   "cell_type": "code",
   "execution_count": 44,
   "metadata": {},
   "outputs": [],
   "source": [
    "myTrainDf.to_csv(\"/mnt/raid/home/ayrisbud/us-famli-pl/src/newAnnotatedTrainFinal.csv\")\n",
    "myTestDf.to_csv(\"/mnt/raid/home/ayrisbud/us-famli-pl/src/newAnnotatedTestFinal.csv\")\n",
    "myValDf.to_csv(\"/mnt/raid/home/ayrisbud/us-famli-pl/src/newAnnotatedValFinal.csv\")"
   ]
  },
  {
   "cell_type": "code",
   "execution_count": null,
   "metadata": {},
   "outputs": [],
   "source": [
    "myTrainDf.columns"
   ]
  },
  {
   "cell_type": "code",
   "execution_count": null,
   "metadata": {},
   "outputs": [],
   "source": [
    "# myDf1 = myDf.replace(np.nan, \"NO\")\n",
    "# myDf1.head()\n",
    "myDf.head()"
   ]
  },
  {
   "cell_type": "code",
   "execution_count": null,
   "metadata": {},
   "outputs": [],
   "source": [
    "myDf1 = myDf1.replace(\"NO\", 0)\n",
    "myDf1 = myDf1.replace(\"YES\", 1)\n",
    "myDf1.head()\n"
   ]
  },
  {
   "cell_type": "code",
   "execution_count": null,
   "metadata": {},
   "outputs": [],
   "source": [
    "myDf1.columns\n",
    "myLabels = ['Head Visible',\n",
    "       'Abdomen Visible', 'Chest Visible', 'Femur Visible',\n",
    "       'Other arm or leg bones visible', 'Umbilical cord visible',\n",
    "       'Amniotic fluid visible', 'Placenta visible', 'Fetus or CRL visible',\n",
    "       'Maternal bladder visible', 'Head Measurable', 'Abdomen Measurable',\n",
    "       'Femur Measurable']"
   ]
  },
  {
   "cell_type": "code",
   "execution_count": null,
   "metadata": {},
   "outputs": [],
   "source": [
    "train_df, test_df = train_test_split(myDf1, test_size=0.2)"
   ]
  },
  {
   "cell_type": "code",
   "execution_count": null,
   "metadata": {},
   "outputs": [],
   "source": [
    "train_df, val_df = train_test_split(train_df, test_size=0.2)"
   ]
  },
  {
   "cell_type": "code",
   "execution_count": null,
   "metadata": {},
   "outputs": [],
   "source": [
    "print(train_df.head())"
   ]
  },
  {
   "cell_type": "code",
   "execution_count": null,
   "metadata": {},
   "outputs": [],
   "source": [
    "train_df.to_csv(\"./annotatedTrain.csv\", index=False)\n",
    "test_df.to_csv(\"./annotatedTest.csv\", index=False)\n",
    "val_df.to_csv(\"./annotatedVal.csv\", index=False)"
   ]
  },
  {
   "cell_type": "code",
   "execution_count": null,
   "metadata": {},
   "outputs": [],
   "source": [
    "myTrain_df = pd.read_csv(\"./annotatedTrain.csv\")\n",
    "myTrain_df.head()"
   ]
  },
  {
   "cell_type": "code",
   "execution_count": null,
   "metadata": {},
   "outputs": [],
   "source": []
  }
 ],
 "metadata": {
  "kernelspec": {
   "display_name": "torch_us",
   "language": "python",
   "name": "python3"
  },
  "language_info": {
   "codemirror_mode": {
    "name": "ipython",
    "version": 3
   },
   "file_extension": ".py",
   "mimetype": "text/x-python",
   "name": "python",
   "nbconvert_exporter": "python",
   "pygments_lexer": "ipython3",
   "version": "3.10.8"
  },
  "orig_nbformat": 4
 },
 "nbformat": 4,
 "nbformat_minor": 2
}
