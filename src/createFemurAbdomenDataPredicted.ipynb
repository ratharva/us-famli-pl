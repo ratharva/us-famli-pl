{
 "cells": [
  {
   "cell_type": "code",
   "execution_count": 14,
   "metadata": {},
   "outputs": [],
   "source": [
    "import numpy as np\n",
    "import pandas as pd\n",
    "from sklearn.model_selection import train_test_split"
   ]
  },
  {
   "cell_type": "code",
   "execution_count": 15,
   "metadata": {},
   "outputs": [],
   "source": [
    "myDf = pd.read_csv(\"/mnt/raid/home/ayrisbud/us-famli-pl/src/abdomenFemurPredicted.csv\")"
   ]
  },
  {
   "cell_type": "code",
   "execution_count": 17,
   "metadata": {},
   "outputs": [
    {
     "name": "stdout",
     "output_type": "stream",
     "text": [
      "Index(['img_path', 'uuid', 'study_id', 'fetal_presentation_str', 'ga_boe',\n",
      "       'ga_expert', 'famli_edd_source', 'famli_edd_source_detail', 'dvp_crf',\n",
      "       'fetal_presentation', 'ga_absdiff', 'is_anchor', 'tag', 'pidscan',\n",
      "       'us_plac', 'us_previa', 'placenta_str', 'previa_str', 'Manufacturer',\n",
      "       'ManufacturerModelName', 'uuid_path_256', 'score', 'pred', 'frame_num',\n",
      "       'No structures visible', 'Head Visible', 'Abdomen Visible',\n",
      "       'Femur Visible', 'Placenta visible', 'No structures visible_predicted',\n",
      "       'Head Visible_predicted', 'Abdomen Visible_predicted',\n",
      "       'Amniotic fluid visible_predicted', 'Placenta visible_predicted'],\n",
      "      dtype='object')\n"
     ]
    }
   ],
   "source": [
    "print(myDf.columns)"
   ]
  },
  {
   "cell_type": "code",
   "execution_count": null,
   "metadata": {},
   "outputs": [],
   "source": [
    "columns_with_1_when_target_is_1 = myDf.loc[myDf['Femur Visible'] == 1, myDf.columns != 'Femur Visible']\n",
    "\n",
    "# Extract the column names where the value is 1\n",
    "result_columns = columns_with_1_when_target_is_1.columns[columns_with_1_when_target_is_1.eq(1).any()]"
   ]
  },
  {
   "cell_type": "code",
   "execution_count": null,
   "metadata": {},
   "outputs": [],
   "source": [
    "print(result_columns)"
   ]
  },
  {
   "cell_type": "code",
   "execution_count": null,
   "metadata": {},
   "outputs": [],
   "source": [
    "count_of_ones = columns_with_1_when_target_is_1.sum()\n",
    "\n",
    "# Display the count for each column\n",
    "print(count_of_ones)"
   ]
  },
  {
   "cell_type": "code",
   "execution_count": 42,
   "metadata": {},
   "outputs": [],
   "source": [
    "myPredictedColumns = ['No structures visible_predicted',\n",
    "       'Head Visible_predicted', 'Abdomen Visible_predicted',\n",
    "       'Amniotic fluid visible_predicted', 'Placenta visible_predicted']"
   ]
  },
  {
   "cell_type": "code",
   "execution_count": 39,
   "metadata": {},
   "outputs": [
    {
     "name": "stdout",
     "output_type": "stream",
     "text": [
      "1000\n"
     ]
    }
   ],
   "source": [
    "mask = (myDf['Abdomen Visible'] == 1) & (myDf['Placenta visible_predicted'] == 1)\n",
    "print((myDf['Abdomen Visible'] == 1).sum())\n",
    "# Get the total count of rows that meet the condition\n",
    "count_of_rows_with_both_ones = mask.sum()\n",
    "print(count_of_rows_with_both_ones)"
   ]
  },
  {
   "cell_type": "code",
   "execution_count": 47,
   "metadata": {},
   "outputs": [
    {
     "name": "stdout",
     "output_type": "stream",
     "text": [
      "No structures visible_predicted 50\n",
      "Head Visible_predicted 48\n",
      "Abdomen Visible_predicted 186\n",
      "Amniotic fluid visible_predicted 1968\n",
      "Placenta visible_predicted 1026\n",
      "Number with Femur visible:  2000\n"
     ]
    }
   ],
   "source": [
    "for i in myPredictedColumns:\n",
    "    mask = (myDf['Femur Visible'] == 1) & (myDf[i] == 1)\n",
    "    # print((myDf['Abdomen Visible'] == 1).sum())\n",
    "    # Get the total count of rows that meet the condition\n",
    "    count_of_rows_with_both_ones = mask.sum()\n",
    "    print(i, count_of_rows_with_both_ones)\n",
    "print(\"Number with Femur visible: \", (myDf['Femur Visible'] == 1).sum())"
   ]
  },
  {
   "cell_type": "code",
   "execution_count": 48,
   "metadata": {},
   "outputs": [
    {
     "name": "stdout",
     "output_type": "stream",
     "text": [
      "No structures visible_predicted 1\n",
      "Head Visible_predicted 8\n",
      "Abdomen Visible_predicted 987\n",
      "Amniotic fluid visible_predicted 916\n",
      "Placenta visible_predicted 536\n",
      "Number with Abdomen visible:  1000\n"
     ]
    }
   ],
   "source": [
    "for i in myPredictedColumns:\n",
    "    mask = (myDf['Abdomen Visible'] == 1) & (myDf[i] == 1)\n",
    "    # print((myDf['Abdomen Visible'] == 1).sum())\n",
    "    # Get the total count of rows that meet the condition\n",
    "    count_of_rows_with_both_ones = mask.sum()\n",
    "    print(i, count_of_rows_with_both_ones)\n",
    "print(\"Number with Abdomen visible: \", (myDf['Abdomen Visible'] == 1).sum())"
   ]
  },
  {
   "cell_type": "code",
   "execution_count": 49,
   "metadata": {},
   "outputs": [],
   "source": [
    "dfDropped = myDf.drop(columns=['Placenta visible'])\n"
   ]
  },
  {
   "cell_type": "code",
   "execution_count": 52,
   "metadata": {},
   "outputs": [],
   "source": [
    "dfDropped = dfDropped.rename(columns={'Placenta visible_predicted': 'Placenta visible'})"
   ]
  },
  {
   "cell_type": "code",
   "execution_count": 53,
   "metadata": {},
   "outputs": [
    {
     "name": "stdout",
     "output_type": "stream",
     "text": [
      "Index(['img_path', 'uuid', 'study_id', 'fetal_presentation_str', 'ga_boe',\n",
      "       'ga_expert', 'famli_edd_source', 'famli_edd_source_detail', 'dvp_crf',\n",
      "       'fetal_presentation', 'ga_absdiff', 'is_anchor', 'tag', 'pidscan',\n",
      "       'us_plac', 'us_previa', 'placenta_str', 'previa_str', 'Manufacturer',\n",
      "       'ManufacturerModelName', 'uuid_path_256', 'score', 'pred', 'frame_num',\n",
      "       'No structures visible', 'Head Visible', 'Abdomen Visible',\n",
      "       'Femur Visible', 'No structures visible_predicted',\n",
      "       'Head Visible_predicted', 'Abdomen Visible_predicted',\n",
      "       'Amniotic fluid visible_predicted', 'Placenta visible'],\n",
      "      dtype='object')\n"
     ]
    }
   ],
   "source": [
    "print(dfDropped.columns)"
   ]
  },
  {
   "cell_type": "code",
   "execution_count": null,
   "metadata": {},
   "outputs": [],
   "source": [
    "toDropColumns = [ 'No structures visible_predicted',\n",
    "       'Head Visible_predicted', 'Abdomen Visible_predicted',\n",
    "       'Amniotic fluid visible_predicted']\n",
    "dfDropped1 = dfDropped.drop(columns=toDropColumns)"
   ]
  }
 ],
 "metadata": {
  "kernelspec": {
   "display_name": "torch_us",
   "language": "python",
   "name": "python3"
  },
  "language_info": {
   "codemirror_mode": {
    "name": "ipython",
    "version": 3
   },
   "file_extension": ".py",
   "mimetype": "text/x-python",
   "name": "python",
   "nbconvert_exporter": "python",
   "pygments_lexer": "ipython3",
   "version": "3.10.8"
  }
 },
 "nbformat": 4,
 "nbformat_minor": 2
}
